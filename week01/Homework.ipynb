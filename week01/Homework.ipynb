{
  "cells": [
    {
      "cell_type": "markdown",
      "id": "0ce4f083",
      "metadata": {
        "id": "0ce4f083"
      },
      "source": [
        "Data documentation: https://tidyr.tidyverse.org/reference/who.html\n",
        "\n",
        "Directions: Answer the three questions below. Create as many code/markdown blocks necessary to answer the questions."
      ]
    },
    {
      "cell_type": "code",
      "execution_count": null,
      "id": "3798ff08",
      "metadata": {
        "id": "3798ff08"
      },
      "outputs": [],
      "source": [
        "import pandas as pd\n",
        "import numpy as np\n",
        "import matplotlib.pyplot as plt\n",
        "%matplotlib inline\n",
        "import seaborn as sns\n",
        "\n",
        "dataFrameFull = pd.read_csv('https://raw.githubusercontent.com/msaricaumbc/DS_data/master/ds602/who.csv')"
      ]
    },
    {
      "cell_type": "code",
      "execution_count": null,
      "id": "477700be",
      "metadata": {
        "colab": {
          "base_uri": "https://localhost:8080/",
          "height": 300
        },
        "id": "477700be",
        "outputId": "2119bda6-bd5c-4009-9288-a8f8635c119f"
      },
      "outputs": [
        {
          "output_type": "execute_result",
          "data": {
            "text/plain": [
              "       country iso2 iso3  year  new_sp_m014  new_sp_m1524  new_sp_m2534  \\\n",
              "0  Afghanistan   AF  AFG  1980          NaN           NaN           NaN   \n",
              "1  Afghanistan   AF  AFG  1981          NaN           NaN           NaN   \n",
              "2  Afghanistan   AF  AFG  1982          NaN           NaN           NaN   \n",
              "3  Afghanistan   AF  AFG  1983          NaN           NaN           NaN   \n",
              "4  Afghanistan   AF  AFG  1984          NaN           NaN           NaN   \n",
              "\n",
              "   new_sp_m3544  new_sp_m4554  new_sp_m5564  ...  newrel_m4554  newrel_m5564  \\\n",
              "0           NaN           NaN           NaN  ...           NaN           NaN   \n",
              "1           NaN           NaN           NaN  ...           NaN           NaN   \n",
              "2           NaN           NaN           NaN  ...           NaN           NaN   \n",
              "3           NaN           NaN           NaN  ...           NaN           NaN   \n",
              "4           NaN           NaN           NaN  ...           NaN           NaN   \n",
              "\n",
              "   newrel_m65  newrel_f014  newrel_f1524  newrel_f2534  newrel_f3544  \\\n",
              "0         NaN          NaN           NaN           NaN           NaN   \n",
              "1         NaN          NaN           NaN           NaN           NaN   \n",
              "2         NaN          NaN           NaN           NaN           NaN   \n",
              "3         NaN          NaN           NaN           NaN           NaN   \n",
              "4         NaN          NaN           NaN           NaN           NaN   \n",
              "\n",
              "   newrel_f4554  newrel_f5564  newrel_f65  \n",
              "0           NaN           NaN         NaN  \n",
              "1           NaN           NaN         NaN  \n",
              "2           NaN           NaN         NaN  \n",
              "3           NaN           NaN         NaN  \n",
              "4           NaN           NaN         NaN  \n",
              "\n",
              "[5 rows x 60 columns]"
            ],
            "text/html": [
              "\n",
              "  <div id=\"df-b759184d-b7bb-4e47-8113-8c0996dab392\">\n",
              "    <div class=\"colab-df-container\">\n",
              "      <div>\n",
              "<style scoped>\n",
              "    .dataframe tbody tr th:only-of-type {\n",
              "        vertical-align: middle;\n",
              "    }\n",
              "\n",
              "    .dataframe tbody tr th {\n",
              "        vertical-align: top;\n",
              "    }\n",
              "\n",
              "    .dataframe thead th {\n",
              "        text-align: right;\n",
              "    }\n",
              "</style>\n",
              "<table border=\"1\" class=\"dataframe\">\n",
              "  <thead>\n",
              "    <tr style=\"text-align: right;\">\n",
              "      <th></th>\n",
              "      <th>country</th>\n",
              "      <th>iso2</th>\n",
              "      <th>iso3</th>\n",
              "      <th>year</th>\n",
              "      <th>new_sp_m014</th>\n",
              "      <th>new_sp_m1524</th>\n",
              "      <th>new_sp_m2534</th>\n",
              "      <th>new_sp_m3544</th>\n",
              "      <th>new_sp_m4554</th>\n",
              "      <th>new_sp_m5564</th>\n",
              "      <th>...</th>\n",
              "      <th>newrel_m4554</th>\n",
              "      <th>newrel_m5564</th>\n",
              "      <th>newrel_m65</th>\n",
              "      <th>newrel_f014</th>\n",
              "      <th>newrel_f1524</th>\n",
              "      <th>newrel_f2534</th>\n",
              "      <th>newrel_f3544</th>\n",
              "      <th>newrel_f4554</th>\n",
              "      <th>newrel_f5564</th>\n",
              "      <th>newrel_f65</th>\n",
              "    </tr>\n",
              "  </thead>\n",
              "  <tbody>\n",
              "    <tr>\n",
              "      <th>0</th>\n",
              "      <td>Afghanistan</td>\n",
              "      <td>AF</td>\n",
              "      <td>AFG</td>\n",
              "      <td>1980</td>\n",
              "      <td>NaN</td>\n",
              "      <td>NaN</td>\n",
              "      <td>NaN</td>\n",
              "      <td>NaN</td>\n",
              "      <td>NaN</td>\n",
              "      <td>NaN</td>\n",
              "      <td>...</td>\n",
              "      <td>NaN</td>\n",
              "      <td>NaN</td>\n",
              "      <td>NaN</td>\n",
              "      <td>NaN</td>\n",
              "      <td>NaN</td>\n",
              "      <td>NaN</td>\n",
              "      <td>NaN</td>\n",
              "      <td>NaN</td>\n",
              "      <td>NaN</td>\n",
              "      <td>NaN</td>\n",
              "    </tr>\n",
              "    <tr>\n",
              "      <th>1</th>\n",
              "      <td>Afghanistan</td>\n",
              "      <td>AF</td>\n",
              "      <td>AFG</td>\n",
              "      <td>1981</td>\n",
              "      <td>NaN</td>\n",
              "      <td>NaN</td>\n",
              "      <td>NaN</td>\n",
              "      <td>NaN</td>\n",
              "      <td>NaN</td>\n",
              "      <td>NaN</td>\n",
              "      <td>...</td>\n",
              "      <td>NaN</td>\n",
              "      <td>NaN</td>\n",
              "      <td>NaN</td>\n",
              "      <td>NaN</td>\n",
              "      <td>NaN</td>\n",
              "      <td>NaN</td>\n",
              "      <td>NaN</td>\n",
              "      <td>NaN</td>\n",
              "      <td>NaN</td>\n",
              "      <td>NaN</td>\n",
              "    </tr>\n",
              "    <tr>\n",
              "      <th>2</th>\n",
              "      <td>Afghanistan</td>\n",
              "      <td>AF</td>\n",
              "      <td>AFG</td>\n",
              "      <td>1982</td>\n",
              "      <td>NaN</td>\n",
              "      <td>NaN</td>\n",
              "      <td>NaN</td>\n",
              "      <td>NaN</td>\n",
              "      <td>NaN</td>\n",
              "      <td>NaN</td>\n",
              "      <td>...</td>\n",
              "      <td>NaN</td>\n",
              "      <td>NaN</td>\n",
              "      <td>NaN</td>\n",
              "      <td>NaN</td>\n",
              "      <td>NaN</td>\n",
              "      <td>NaN</td>\n",
              "      <td>NaN</td>\n",
              "      <td>NaN</td>\n",
              "      <td>NaN</td>\n",
              "      <td>NaN</td>\n",
              "    </tr>\n",
              "    <tr>\n",
              "      <th>3</th>\n",
              "      <td>Afghanistan</td>\n",
              "      <td>AF</td>\n",
              "      <td>AFG</td>\n",
              "      <td>1983</td>\n",
              "      <td>NaN</td>\n",
              "      <td>NaN</td>\n",
              "      <td>NaN</td>\n",
              "      <td>NaN</td>\n",
              "      <td>NaN</td>\n",
              "      <td>NaN</td>\n",
              "      <td>...</td>\n",
              "      <td>NaN</td>\n",
              "      <td>NaN</td>\n",
              "      <td>NaN</td>\n",
              "      <td>NaN</td>\n",
              "      <td>NaN</td>\n",
              "      <td>NaN</td>\n",
              "      <td>NaN</td>\n",
              "      <td>NaN</td>\n",
              "      <td>NaN</td>\n",
              "      <td>NaN</td>\n",
              "    </tr>\n",
              "    <tr>\n",
              "      <th>4</th>\n",
              "      <td>Afghanistan</td>\n",
              "      <td>AF</td>\n",
              "      <td>AFG</td>\n",
              "      <td>1984</td>\n",
              "      <td>NaN</td>\n",
              "      <td>NaN</td>\n",
              "      <td>NaN</td>\n",
              "      <td>NaN</td>\n",
              "      <td>NaN</td>\n",
              "      <td>NaN</td>\n",
              "      <td>...</td>\n",
              "      <td>NaN</td>\n",
              "      <td>NaN</td>\n",
              "      <td>NaN</td>\n",
              "      <td>NaN</td>\n",
              "      <td>NaN</td>\n",
              "      <td>NaN</td>\n",
              "      <td>NaN</td>\n",
              "      <td>NaN</td>\n",
              "      <td>NaN</td>\n",
              "      <td>NaN</td>\n",
              "    </tr>\n",
              "  </tbody>\n",
              "</table>\n",
              "<p>5 rows × 60 columns</p>\n",
              "</div>\n",
              "      <button class=\"colab-df-convert\" onclick=\"convertToInteractive('df-b759184d-b7bb-4e47-8113-8c0996dab392')\"\n",
              "              title=\"Convert this dataframe to an interactive table.\"\n",
              "              style=\"display:none;\">\n",
              "        \n",
              "  <svg xmlns=\"http://www.w3.org/2000/svg\" height=\"24px\"viewBox=\"0 0 24 24\"\n",
              "       width=\"24px\">\n",
              "    <path d=\"M0 0h24v24H0V0z\" fill=\"none\"/>\n",
              "    <path d=\"M18.56 5.44l.94 2.06.94-2.06 2.06-.94-2.06-.94-.94-2.06-.94 2.06-2.06.94zm-11 1L8.5 8.5l.94-2.06 2.06-.94-2.06-.94L8.5 2.5l-.94 2.06-2.06.94zm10 10l.94 2.06.94-2.06 2.06-.94-2.06-.94-.94-2.06-.94 2.06-2.06.94z\"/><path d=\"M17.41 7.96l-1.37-1.37c-.4-.4-.92-.59-1.43-.59-.52 0-1.04.2-1.43.59L10.3 9.45l-7.72 7.72c-.78.78-.78 2.05 0 2.83L4 21.41c.39.39.9.59 1.41.59.51 0 1.02-.2 1.41-.59l7.78-7.78 2.81-2.81c.8-.78.8-2.07 0-2.86zM5.41 20L4 18.59l7.72-7.72 1.47 1.35L5.41 20z\"/>\n",
              "  </svg>\n",
              "      </button>\n",
              "      \n",
              "  <style>\n",
              "    .colab-df-container {\n",
              "      display:flex;\n",
              "      flex-wrap:wrap;\n",
              "      gap: 12px;\n",
              "    }\n",
              "\n",
              "    .colab-df-convert {\n",
              "      background-color: #E8F0FE;\n",
              "      border: none;\n",
              "      border-radius: 50%;\n",
              "      cursor: pointer;\n",
              "      display: none;\n",
              "      fill: #1967D2;\n",
              "      height: 32px;\n",
              "      padding: 0 0 0 0;\n",
              "      width: 32px;\n",
              "    }\n",
              "\n",
              "    .colab-df-convert:hover {\n",
              "      background-color: #E2EBFA;\n",
              "      box-shadow: 0px 1px 2px rgba(60, 64, 67, 0.3), 0px 1px 3px 1px rgba(60, 64, 67, 0.15);\n",
              "      fill: #174EA6;\n",
              "    }\n",
              "\n",
              "    [theme=dark] .colab-df-convert {\n",
              "      background-color: #3B4455;\n",
              "      fill: #D2E3FC;\n",
              "    }\n",
              "\n",
              "    [theme=dark] .colab-df-convert:hover {\n",
              "      background-color: #434B5C;\n",
              "      box-shadow: 0px 1px 3px 1px rgba(0, 0, 0, 0.15);\n",
              "      filter: drop-shadow(0px 1px 2px rgba(0, 0, 0, 0.3));\n",
              "      fill: #FFFFFF;\n",
              "    }\n",
              "  </style>\n",
              "\n",
              "      <script>\n",
              "        const buttonEl =\n",
              "          document.querySelector('#df-b759184d-b7bb-4e47-8113-8c0996dab392 button.colab-df-convert');\n",
              "        buttonEl.style.display =\n",
              "          google.colab.kernel.accessAllowed ? 'block' : 'none';\n",
              "\n",
              "        async function convertToInteractive(key) {\n",
              "          const element = document.querySelector('#df-b759184d-b7bb-4e47-8113-8c0996dab392');\n",
              "          const dataTable =\n",
              "            await google.colab.kernel.invokeFunction('convertToInteractive',\n",
              "                                                     [key], {});\n",
              "          if (!dataTable) return;\n",
              "\n",
              "          const docLinkHtml = 'Like what you see? Visit the ' +\n",
              "            '<a target=\"_blank\" href=https://colab.research.google.com/notebooks/data_table.ipynb>data table notebook</a>'\n",
              "            + ' to learn more about interactive tables.';\n",
              "          element.innerHTML = '';\n",
              "          dataTable['output_type'] = 'display_data';\n",
              "          await google.colab.output.renderOutput(dataTable, element);\n",
              "          const docLink = document.createElement('div');\n",
              "          docLink.innerHTML = docLinkHtml;\n",
              "          element.appendChild(docLink);\n",
              "        }\n",
              "      </script>\n",
              "    </div>\n",
              "  </div>\n",
              "  "
            ]
          },
          "metadata": {},
          "execution_count": 8
        }
      ],
      "source": [
        "dataFrameFull.head()"
      ]
    },
    {
      "cell_type": "code",
      "execution_count": null,
      "id": "0ea99d79",
      "metadata": {
        "scrolled": true,
        "colab": {
          "base_uri": "https://localhost:8080/"
        },
        "id": "0ea99d79",
        "outputId": "772df5e2-3130-4ee3-b504-16cf5f86f085"
      },
      "outputs": [
        {
          "output_type": "stream",
          "name": "stdout",
          "text": [
            "<class 'pandas.core.frame.DataFrame'>\n",
            "RangeIndex: 7240 entries, 0 to 7239\n",
            "Data columns (total 58 columns):\n",
            " #   Column        Non-Null Count  Dtype  \n",
            "---  ------        --------------  -----  \n",
            " 0   country       7240 non-null   object \n",
            " 1   year          7240 non-null   int64  \n",
            " 2   new_sp_m014   3173 non-null   float64\n",
            " 3   new_sp_m1524  3209 non-null   float64\n",
            " 4   new_sp_m2534  3206 non-null   float64\n",
            " 5   new_sp_m3544  3219 non-null   float64\n",
            " 6   new_sp_m4554  3223 non-null   float64\n",
            " 7   new_sp_m5564  3218 non-null   float64\n",
            " 8   new_sp_m65    3209 non-null   float64\n",
            " 9   new_sp_f014   3174 non-null   float64\n",
            " 10  new_sp_f1524  3194 non-null   float64\n",
            " 11  new_sp_f2534  3200 non-null   float64\n",
            " 12  new_sp_f3544  3199 non-null   float64\n",
            " 13  new_sp_f4554  3204 non-null   float64\n",
            " 14  new_sp_f5564  3195 non-null   float64\n",
            " 15  new_sp_f65    3197 non-null   float64\n",
            " 16  new_sn_m014   1045 non-null   float64\n",
            " 17  new_sn_m1524  1030 non-null   float64\n",
            " 18  new_sn_m2534  1022 non-null   float64\n",
            " 19  new_sn_m3544  1025 non-null   float64\n",
            " 20  new_sn_m4554  1027 non-null   float64\n",
            " 21  new_sn_m5564  1021 non-null   float64\n",
            " 22  new_sn_m65    1020 non-null   float64\n",
            " 23  new_sn_f014   1040 non-null   float64\n",
            " 24  new_sn_f1524  1022 non-null   float64\n",
            " 25  new_sn_f2534  1016 non-null   float64\n",
            " 26  new_sn_f3544  1020 non-null   float64\n",
            " 27  new_sn_f4554  1018 non-null   float64\n",
            " 28  new_sn_f5564  1017 non-null   float64\n",
            " 29  new_sn_f65    1019 non-null   float64\n",
            " 30  new_ep_m014   1038 non-null   float64\n",
            " 31  new_ep_m1524  1026 non-null   float64\n",
            " 32  new_ep_m2534  1020 non-null   float64\n",
            " 33  new_ep_m3544  1024 non-null   float64\n",
            " 34  new_ep_m4554  1020 non-null   float64\n",
            " 35  new_ep_m5564  1015 non-null   float64\n",
            " 36  new_ep_m65    1018 non-null   float64\n",
            " 37  new_ep_f014   1032 non-null   float64\n",
            " 38  new_ep_f1524  1021 non-null   float64\n",
            " 39  new_ep_f2534  1021 non-null   float64\n",
            " 40  new_ep_f3544  1021 non-null   float64\n",
            " 41  new_ep_f4554  1017 non-null   float64\n",
            " 42  new_ep_f5564  1017 non-null   float64\n",
            " 43  new_ep_f65    1014 non-null   float64\n",
            " 44  newrel_m014   190 non-null    float64\n",
            " 45  newrel_m1524  182 non-null    float64\n",
            " 46  newrel_m2534  183 non-null    float64\n",
            " 47  newrel_m3544  184 non-null    float64\n",
            " 48  newrel_m4554  184 non-null    float64\n",
            " 49  newrel_m5564  185 non-null    float64\n",
            " 50  newrel_m65    182 non-null    float64\n",
            " 51  newrel_f014   190 non-null    float64\n",
            " 52  newrel_f1524  184 non-null    float64\n",
            " 53  newrel_f2534  182 non-null    float64\n",
            " 54  newrel_f3544  183 non-null    float64\n",
            " 55  newrel_f4554  183 non-null    float64\n",
            " 56  newrel_f5564  183 non-null    float64\n",
            " 57  newrel_f65    185 non-null    float64\n",
            "dtypes: float64(56), int64(1), object(1)\n",
            "memory usage: 3.2+ MB\n"
          ]
        }
      ],
      "source": [
        "dataFrameFull = dataFrameFull.drop(columns=['iso2', 'iso3'])\n",
        "dataFrameFull.info()"
      ]
    },
    {
      "cell_type": "markdown",
      "id": "cee1892e",
      "metadata": {
        "id": "cee1892e"
      },
      "source": [
        "Question 1. We need to know what's included in this data.\n",
        "\n",
        "1.How many countries are present?\n",
        "\n",
        "2.What's the timespan of the data?\n",
        "\n",
        "3.Does each country have a row for every year present?\n",
        "\n",
        "4.Which countries are missing years?\n",
        "\n",
        "5.How many rows have at least 1 non-null values across the columns 3-57?"
      ]
    },
    {
      "cell_type": "code",
      "execution_count": null,
      "id": "817f5d53",
      "metadata": {
        "colab": {
          "base_uri": "https://localhost:8080/"
        },
        "id": "817f5d53",
        "outputId": "27c6cd20-db7b-4340-ba70-fc5f932df96f"
      },
      "outputs": [
        {
          "output_type": "stream",
          "name": "stdout",
          "text": [
            "219\n"
          ]
        }
      ],
      "source": [
        "#1.How many countries are present?\n",
        "countries_top_unique=dataFrameFull['country'].unique()\n",
        "countCountry=len(countries_top_unique)"
      ]
    },
    {
      "cell_type": "code",
      "source": [
        "print(\"Count of the countries : \", countCountry)"
      ],
      "metadata": {
        "id": "ou62-5S5m2YF"
      },
      "id": "ou62-5S5m2YF",
      "execution_count": null,
      "outputs": []
    },
    {
      "cell_type": "code",
      "execution_count": null,
      "id": "be2d6102",
      "metadata": {
        "id": "be2d6102",
        "outputId": "926042ec-f317-4a40-ff98-21835d1a4fbb"
      },
      "outputs": [
        {
          "data": {
            "text/plain": [
              "0       1980\n",
              "1       1981\n",
              "2       1982\n",
              "3       1983\n",
              "4       1984\n",
              "        ... \n",
              "7235    2009\n",
              "7236    2010\n",
              "7237    2011\n",
              "7238    2012\n",
              "7239    2013\n",
              "Name: year, Length: 7240, dtype: int64"
            ]
          },
          "execution_count": 84,
          "metadata": {},
          "output_type": "execute_result"
        }
      ],
      "source": [
        "# question 2\n",
        "dataFrameFull['year']"
      ]
    },
    {
      "cell_type": "code",
      "execution_count": null,
      "id": "1bcad80c",
      "metadata": {
        "id": "1bcad80c",
        "outputId": "aaaf3e6f-cdc5-420c-c377-8f0838b1a431"
      },
      "outputs": [
        {
          "data": {
            "text/plain": [
              "1980"
            ]
          },
          "execution_count": 85,
          "metadata": {},
          "output_type": "execute_result"
        }
      ],
      "source": [
        "print(\"Minimum year : \",dataFrameFull['year'].min())"
      ]
    },
    {
      "cell_type": "code",
      "execution_count": null,
      "id": "f58c3efe",
      "metadata": {
        "id": "f58c3efe",
        "outputId": "615a2169-443a-438b-aa16-c4435755b040"
      },
      "outputs": [
        {
          "data": {
            "text/plain": [
              "2013"
            ]
          },
          "execution_count": 86,
          "metadata": {},
          "output_type": "execute_result"
        }
      ],
      "source": [
        "print(\"Maximum year : \",dataFrameFull['year'].max())"
      ]
    },
    {
      "cell_type": "code",
      "source": [
        "unique_years = dataFrameFull['year'].unique()\n",
        "grouped = dataFrameFull.groupby('country')\n",
        "countries_with_missing_years = []\n",
        "\n",
        "for country, group in grouped:\n",
        "    year_group = group['year'].unique()\n",
        "    if len(year_group) != len(unique_years):\n",
        "        countries_with_missing_years.append(country)\n",
        "        print(i+ \" not having a year present.\")"
      ],
      "metadata": {
        "colab": {
          "base_uri": "https://localhost:8080/"
        },
        "id": "hyXl57sEsE2l",
        "outputId": "b7d37a48-59c5-4a3d-a37c-00fc885b5002"
      },
      "id": "hyXl57sEsE2l",
      "execution_count": null,
      "outputs": [
        {
          "output_type": "stream",
          "name": "stdout",
          "text": [
            "Zimbabwe not having a year present.\n",
            "Zimbabwe not having a year present.\n",
            "Zimbabwe not having a year present.\n",
            "Zimbabwe not having a year present.\n",
            "Zimbabwe not having a year present.\n",
            "Zimbabwe not having a year present.\n",
            "Zimbabwe not having a year present.\n",
            "Zimbabwe not having a year present.\n",
            "Zimbabwe not having a year present.\n"
          ]
        }
      ]
    },
    {
      "cell_type": "code",
      "execution_count": null,
      "id": "95cd5ad6",
      "metadata": {
        "colab": {
          "base_uri": "https://localhost:8080/"
        },
        "id": "95cd5ad6",
        "outputId": "5f1824e6-b92f-4add-d684-9a1422a7d058"
      },
      "outputs": [
        {
          "output_type": "stream",
          "name": "stdout",
          "text": [
            "Countries with missing years :  ['Bonaire, Saint Eustatius and Saba', 'Curacao', 'Montenegro', 'Netherlands Antilles', 'Serbia', 'Serbia & Montenegro', 'Sint Maarten (Dutch part)', 'South Sudan', 'Timor-Leste']\n"
          ]
        }
      ],
      "source": [
        "# question 4\n",
        "print(\"Countries with missing years : \",countries_with_missing_years)"
      ]
    },
    {
      "cell_type": "code",
      "execution_count": null,
      "id": "a80ab526",
      "metadata": {
        "colab": {
          "base_uri": "https://localhost:8080/"
        },
        "id": "a80ab526",
        "outputId": "951101f4-1521-4960-aa1e-bca1f9b1850f"
      },
      "outputs": [
        {
          "output_type": "stream",
          "name": "stdout",
          "text": [
            "The number of rows with at least one non-null value across columns 3-57 is: 7240\n"
          ]
        }
      ],
      "source": [
        "#question 5 \n",
        "selected_columns = dataFrameFull.iloc[:, 3:57]\n",
        "not_null_values = selected_columns.notnull()\n",
        "at_least_one_non_null = not_null_values.any(axis=1)\n",
        "count = at_least_one_non_null.sum()\n",
        "print(\"The number of rows with at least one non-null value across columns 3-57 is:\", count)\n"
      ]
    },
    {
      "cell_type": "markdown",
      "id": "c4c9e2be",
      "metadata": {
        "id": "c4c9e2be"
      },
      "source": [
        "Question 2: Wide data isn't usually helpful.\n",
        "\n",
        "Convert this to a long format with the following columns:\n",
        "\n",
        "1. country\n",
        "2. year\n",
        "3. diagnosis method: mapping should be:\n",
        "  {'newsp':'Pulmonary Smear (+)'\n",
        "  ,'newsn':'Pulmonary Smear (-)'\n",
        "  ,'newep':'Extrapulmonary'\n",
        "  ,'newrel':'Relapse'}   \n",
        "4. gender: male or female.\n",
        "5. age: lower_age - higher_age, e.g., 0-14\n",
        "6. number of cases\n",
        "\n",
        "Note: You can use replace (https://pandas.pydata.org/docs/reference/api/pandas.DataFrame.replace.html)"
      ]
    },
    {
      "cell_type": "code",
      "execution_count": null,
      "id": "b66939dc",
      "metadata": {
        "colab": {
          "base_uri": "https://localhost:8080/",
          "height": 300
        },
        "id": "b66939dc",
        "outputId": "03fb48c9-f131-48a4-a35a-e80b10a2dedc"
      },
      "outputs": [
        {
          "output_type": "execute_result",
          "data": {
            "text/plain": [
              "       country iso2 iso3  year  new_sp_m014  new_sp_m1524  new_sp_m2534  \\\n",
              "0  Afghanistan   AF  AFG  1980          NaN           NaN           NaN   \n",
              "1  Afghanistan   AF  AFG  1981          NaN           NaN           NaN   \n",
              "2  Afghanistan   AF  AFG  1982          NaN           NaN           NaN   \n",
              "3  Afghanistan   AF  AFG  1983          NaN           NaN           NaN   \n",
              "4  Afghanistan   AF  AFG  1984          NaN           NaN           NaN   \n",
              "\n",
              "   new_sp_m3544  new_sp_m4554  new_sp_m5564  ...  newrel_m4554  newrel_m5564  \\\n",
              "0           NaN           NaN           NaN  ...           NaN           NaN   \n",
              "1           NaN           NaN           NaN  ...           NaN           NaN   \n",
              "2           NaN           NaN           NaN  ...           NaN           NaN   \n",
              "3           NaN           NaN           NaN  ...           NaN           NaN   \n",
              "4           NaN           NaN           NaN  ...           NaN           NaN   \n",
              "\n",
              "   newrel_m65  newrel_f014  newrel_f1524  newrel_f2534  newrel_f3544  \\\n",
              "0         NaN          NaN           NaN           NaN           NaN   \n",
              "1         NaN          NaN           NaN           NaN           NaN   \n",
              "2         NaN          NaN           NaN           NaN           NaN   \n",
              "3         NaN          NaN           NaN           NaN           NaN   \n",
              "4         NaN          NaN           NaN           NaN           NaN   \n",
              "\n",
              "   newrel_f4554  newrel_f5564  newrel_f65  \n",
              "0           NaN           NaN         NaN  \n",
              "1           NaN           NaN         NaN  \n",
              "2           NaN           NaN         NaN  \n",
              "3           NaN           NaN         NaN  \n",
              "4           NaN           NaN         NaN  \n",
              "\n",
              "[5 rows x 60 columns]"
            ],
            "text/html": [
              "\n",
              "  <div id=\"df-b8a2b05f-ef07-4309-86a7-5c3f5d72f384\">\n",
              "    <div class=\"colab-df-container\">\n",
              "      <div>\n",
              "<style scoped>\n",
              "    .dataframe tbody tr th:only-of-type {\n",
              "        vertical-align: middle;\n",
              "    }\n",
              "\n",
              "    .dataframe tbody tr th {\n",
              "        vertical-align: top;\n",
              "    }\n",
              "\n",
              "    .dataframe thead th {\n",
              "        text-align: right;\n",
              "    }\n",
              "</style>\n",
              "<table border=\"1\" class=\"dataframe\">\n",
              "  <thead>\n",
              "    <tr style=\"text-align: right;\">\n",
              "      <th></th>\n",
              "      <th>country</th>\n",
              "      <th>iso2</th>\n",
              "      <th>iso3</th>\n",
              "      <th>year</th>\n",
              "      <th>new_sp_m014</th>\n",
              "      <th>new_sp_m1524</th>\n",
              "      <th>new_sp_m2534</th>\n",
              "      <th>new_sp_m3544</th>\n",
              "      <th>new_sp_m4554</th>\n",
              "      <th>new_sp_m5564</th>\n",
              "      <th>...</th>\n",
              "      <th>newrel_m4554</th>\n",
              "      <th>newrel_m5564</th>\n",
              "      <th>newrel_m65</th>\n",
              "      <th>newrel_f014</th>\n",
              "      <th>newrel_f1524</th>\n",
              "      <th>newrel_f2534</th>\n",
              "      <th>newrel_f3544</th>\n",
              "      <th>newrel_f4554</th>\n",
              "      <th>newrel_f5564</th>\n",
              "      <th>newrel_f65</th>\n",
              "    </tr>\n",
              "  </thead>\n",
              "  <tbody>\n",
              "    <tr>\n",
              "      <th>0</th>\n",
              "      <td>Afghanistan</td>\n",
              "      <td>AF</td>\n",
              "      <td>AFG</td>\n",
              "      <td>1980</td>\n",
              "      <td>NaN</td>\n",
              "      <td>NaN</td>\n",
              "      <td>NaN</td>\n",
              "      <td>NaN</td>\n",
              "      <td>NaN</td>\n",
              "      <td>NaN</td>\n",
              "      <td>...</td>\n",
              "      <td>NaN</td>\n",
              "      <td>NaN</td>\n",
              "      <td>NaN</td>\n",
              "      <td>NaN</td>\n",
              "      <td>NaN</td>\n",
              "      <td>NaN</td>\n",
              "      <td>NaN</td>\n",
              "      <td>NaN</td>\n",
              "      <td>NaN</td>\n",
              "      <td>NaN</td>\n",
              "    </tr>\n",
              "    <tr>\n",
              "      <th>1</th>\n",
              "      <td>Afghanistan</td>\n",
              "      <td>AF</td>\n",
              "      <td>AFG</td>\n",
              "      <td>1981</td>\n",
              "      <td>NaN</td>\n",
              "      <td>NaN</td>\n",
              "      <td>NaN</td>\n",
              "      <td>NaN</td>\n",
              "      <td>NaN</td>\n",
              "      <td>NaN</td>\n",
              "      <td>...</td>\n",
              "      <td>NaN</td>\n",
              "      <td>NaN</td>\n",
              "      <td>NaN</td>\n",
              "      <td>NaN</td>\n",
              "      <td>NaN</td>\n",
              "      <td>NaN</td>\n",
              "      <td>NaN</td>\n",
              "      <td>NaN</td>\n",
              "      <td>NaN</td>\n",
              "      <td>NaN</td>\n",
              "    </tr>\n",
              "    <tr>\n",
              "      <th>2</th>\n",
              "      <td>Afghanistan</td>\n",
              "      <td>AF</td>\n",
              "      <td>AFG</td>\n",
              "      <td>1982</td>\n",
              "      <td>NaN</td>\n",
              "      <td>NaN</td>\n",
              "      <td>NaN</td>\n",
              "      <td>NaN</td>\n",
              "      <td>NaN</td>\n",
              "      <td>NaN</td>\n",
              "      <td>...</td>\n",
              "      <td>NaN</td>\n",
              "      <td>NaN</td>\n",
              "      <td>NaN</td>\n",
              "      <td>NaN</td>\n",
              "      <td>NaN</td>\n",
              "      <td>NaN</td>\n",
              "      <td>NaN</td>\n",
              "      <td>NaN</td>\n",
              "      <td>NaN</td>\n",
              "      <td>NaN</td>\n",
              "    </tr>\n",
              "    <tr>\n",
              "      <th>3</th>\n",
              "      <td>Afghanistan</td>\n",
              "      <td>AF</td>\n",
              "      <td>AFG</td>\n",
              "      <td>1983</td>\n",
              "      <td>NaN</td>\n",
              "      <td>NaN</td>\n",
              "      <td>NaN</td>\n",
              "      <td>NaN</td>\n",
              "      <td>NaN</td>\n",
              "      <td>NaN</td>\n",
              "      <td>...</td>\n",
              "      <td>NaN</td>\n",
              "      <td>NaN</td>\n",
              "      <td>NaN</td>\n",
              "      <td>NaN</td>\n",
              "      <td>NaN</td>\n",
              "      <td>NaN</td>\n",
              "      <td>NaN</td>\n",
              "      <td>NaN</td>\n",
              "      <td>NaN</td>\n",
              "      <td>NaN</td>\n",
              "    </tr>\n",
              "    <tr>\n",
              "      <th>4</th>\n",
              "      <td>Afghanistan</td>\n",
              "      <td>AF</td>\n",
              "      <td>AFG</td>\n",
              "      <td>1984</td>\n",
              "      <td>NaN</td>\n",
              "      <td>NaN</td>\n",
              "      <td>NaN</td>\n",
              "      <td>NaN</td>\n",
              "      <td>NaN</td>\n",
              "      <td>NaN</td>\n",
              "      <td>...</td>\n",
              "      <td>NaN</td>\n",
              "      <td>NaN</td>\n",
              "      <td>NaN</td>\n",
              "      <td>NaN</td>\n",
              "      <td>NaN</td>\n",
              "      <td>NaN</td>\n",
              "      <td>NaN</td>\n",
              "      <td>NaN</td>\n",
              "      <td>NaN</td>\n",
              "      <td>NaN</td>\n",
              "    </tr>\n",
              "  </tbody>\n",
              "</table>\n",
              "<p>5 rows × 60 columns</p>\n",
              "</div>\n",
              "      <button class=\"colab-df-convert\" onclick=\"convertToInteractive('df-b8a2b05f-ef07-4309-86a7-5c3f5d72f384')\"\n",
              "              title=\"Convert this dataframe to an interactive table.\"\n",
              "              style=\"display:none;\">\n",
              "        \n",
              "  <svg xmlns=\"http://www.w3.org/2000/svg\" height=\"24px\"viewBox=\"0 0 24 24\"\n",
              "       width=\"24px\">\n",
              "    <path d=\"M0 0h24v24H0V0z\" fill=\"none\"/>\n",
              "    <path d=\"M18.56 5.44l.94 2.06.94-2.06 2.06-.94-2.06-.94-.94-2.06-.94 2.06-2.06.94zm-11 1L8.5 8.5l.94-2.06 2.06-.94-2.06-.94L8.5 2.5l-.94 2.06-2.06.94zm10 10l.94 2.06.94-2.06 2.06-.94-2.06-.94-.94-2.06-.94 2.06-2.06.94z\"/><path d=\"M17.41 7.96l-1.37-1.37c-.4-.4-.92-.59-1.43-.59-.52 0-1.04.2-1.43.59L10.3 9.45l-7.72 7.72c-.78.78-.78 2.05 0 2.83L4 21.41c.39.39.9.59 1.41.59.51 0 1.02-.2 1.41-.59l7.78-7.78 2.81-2.81c.8-.78.8-2.07 0-2.86zM5.41 20L4 18.59l7.72-7.72 1.47 1.35L5.41 20z\"/>\n",
              "  </svg>\n",
              "      </button>\n",
              "      \n",
              "  <style>\n",
              "    .colab-df-container {\n",
              "      display:flex;\n",
              "      flex-wrap:wrap;\n",
              "      gap: 12px;\n",
              "    }\n",
              "\n",
              "    .colab-df-convert {\n",
              "      background-color: #E8F0FE;\n",
              "      border: none;\n",
              "      border-radius: 50%;\n",
              "      cursor: pointer;\n",
              "      display: none;\n",
              "      fill: #1967D2;\n",
              "      height: 32px;\n",
              "      padding: 0 0 0 0;\n",
              "      width: 32px;\n",
              "    }\n",
              "\n",
              "    .colab-df-convert:hover {\n",
              "      background-color: #E2EBFA;\n",
              "      box-shadow: 0px 1px 2px rgba(60, 64, 67, 0.3), 0px 1px 3px 1px rgba(60, 64, 67, 0.15);\n",
              "      fill: #174EA6;\n",
              "    }\n",
              "\n",
              "    [theme=dark] .colab-df-convert {\n",
              "      background-color: #3B4455;\n",
              "      fill: #D2E3FC;\n",
              "    }\n",
              "\n",
              "    [theme=dark] .colab-df-convert:hover {\n",
              "      background-color: #434B5C;\n",
              "      box-shadow: 0px 1px 3px 1px rgba(0, 0, 0, 0.15);\n",
              "      filter: drop-shadow(0px 1px 2px rgba(0, 0, 0, 0.3));\n",
              "      fill: #FFFFFF;\n",
              "    }\n",
              "  </style>\n",
              "\n",
              "      <script>\n",
              "        const buttonEl =\n",
              "          document.querySelector('#df-b8a2b05f-ef07-4309-86a7-5c3f5d72f384 button.colab-df-convert');\n",
              "        buttonEl.style.display =\n",
              "          google.colab.kernel.accessAllowed ? 'block' : 'none';\n",
              "\n",
              "        async function convertToInteractive(key) {\n",
              "          const element = document.querySelector('#df-b8a2b05f-ef07-4309-86a7-5c3f5d72f384');\n",
              "          const dataTable =\n",
              "            await google.colab.kernel.invokeFunction('convertToInteractive',\n",
              "                                                     [key], {});\n",
              "          if (!dataTable) return;\n",
              "\n",
              "          const docLinkHtml = 'Like what you see? Visit the ' +\n",
              "            '<a target=\"_blank\" href=https://colab.research.google.com/notebooks/data_table.ipynb>data table notebook</a>'\n",
              "            + ' to learn more about interactive tables.';\n",
              "          element.innerHTML = '';\n",
              "          dataTable['output_type'] = 'display_data';\n",
              "          await google.colab.output.renderOutput(dataTable, element);\n",
              "          const docLink = document.createElement('div');\n",
              "          docLink.innerHTML = docLinkHtml;\n",
              "          element.appendChild(docLink);\n",
              "        }\n",
              "      </script>\n",
              "    </div>\n",
              "  </div>\n",
              "  "
            ]
          },
          "metadata": {},
          "execution_count": 16
        }
      ],
      "source": [
        "dataFrameFull.head()"
      ]
    },
    {
      "cell_type": "code",
      "execution_count": null,
      "id": "bea84553",
      "metadata": {
        "colab": {
          "base_uri": "https://localhost:8080/"
        },
        "id": "bea84553",
        "outputId": "294e435d-c938-4b90-94d5-e4305aac5076"
      },
      "outputs": [
        {
          "output_type": "stream",
          "name": "stdout",
          "text": [
            "           country  year     variable   value\n",
            "0      Afghanistan  1980  new_sp_m014     NaN\n",
            "1      Afghanistan  1981  new_sp_m014     NaN\n",
            "2      Afghanistan  1982  new_sp_m014     NaN\n",
            "3      Afghanistan  1983  new_sp_m014     NaN\n",
            "4      Afghanistan  1984  new_sp_m014     NaN\n",
            "...            ...   ...          ...     ...\n",
            "57915     Zimbabwe  2009  newrel_f014     NaN\n",
            "57916     Zimbabwe  2010  newrel_f014     NaN\n",
            "57917     Zimbabwe  2011  newrel_f014     NaN\n",
            "57918     Zimbabwe  2012  newrel_f014     NaN\n",
            "57919     Zimbabwe  2013  newrel_f014  1252.0\n",
            "\n",
            "[57920 rows x 4 columns]\n"
          ]
        }
      ],
      "source": [
        "import pandas as pd\n",
        "\n",
        "# Mapping for column values\n",
        "category_mapping = {'newsp': 'Pulmonary Smear (+)',\n",
        "                    'newsn': 'Pulmonary Smear (-)',\n",
        "                    'newep': 'Extrapulmonary',\n",
        "                    'newrel': 'Relapse'}\n",
        "\n",
        "# Create age ranges\n",
        "age_ranges = ['0-14', '35-54', '55-64']\n",
        "\n",
        "# Melt the data frame to long format\n",
        "melted_df = dataFrameFull.melt(id_vars=['country', 'year'], value_vars=['new_sp_m014', 'new_sp_f014', 'new_sn_m014', 'new_sn_f014', 'new_ep_m014', 'new_ep_f014', 'newrel_m014', 'newrel_f014'])\n",
        "\n",
        "# Print the melted DataFrame\n",
        "print(melted_df)\n"
      ]
    },
    {
      "cell_type": "code",
      "execution_count": null,
      "id": "db9d88db",
      "metadata": {
        "colab": {
          "base_uri": "https://localhost:8080/"
        },
        "id": "db9d88db",
        "outputId": "7742da5b-5330-4c40-f5d6-7e76e09a31d7"
      },
      "outputs": [
        {
          "output_type": "stream",
          "name": "stdout",
          "text": [
            "           country  year     variable   value diagnosis_method gender\n",
            "0      Afghanistan  1980  new_sp_m014     NaN           new_sp   m014\n",
            "1      Afghanistan  1981  new_sp_m014     NaN           new_sp   m014\n",
            "2      Afghanistan  1982  new_sp_m014     NaN           new_sp   m014\n",
            "3      Afghanistan  1983  new_sp_m014     NaN           new_sp   m014\n",
            "4      Afghanistan  1984  new_sp_m014     NaN           new_sp   m014\n",
            "...            ...   ...          ...     ...              ...    ...\n",
            "57915     Zimbabwe  2009  newrel_f014     NaN           newrel   f014\n",
            "57916     Zimbabwe  2010  newrel_f014     NaN           newrel   f014\n",
            "57917     Zimbabwe  2011  newrel_f014     NaN           newrel   f014\n",
            "57918     Zimbabwe  2012  newrel_f014     NaN           newrel   f014\n",
            "57919     Zimbabwe  2013  newrel_f014  1252.0           newrel   f014\n",
            "\n",
            "[57920 rows x 6 columns]\n"
          ]
        }
      ],
      "source": [
        "# Split the variable column into diagnosis method and gender\n",
        "melted_df[['diagnosis_method', 'gender']] = melted_df['variable'].str.extract(r'(.*)_(.*)', expand=True)\n",
        "\n",
        "# Print the modified DataFrame\n",
        "print(melted_df)\n"
      ]
    },
    {
      "cell_type": "code",
      "execution_count": null,
      "id": "bfb0da78",
      "metadata": {
        "colab": {
          "base_uri": "https://localhost:8080/",
          "height": 363
        },
        "id": "bfb0da78",
        "outputId": "7066b25f-d4e3-4591-f6e5-1d8b356bf438"
      },
      "outputs": [
        {
          "output_type": "error",
          "ename": "KeyError",
          "evalue": "ignored",
          "traceback": [
            "\u001b[0;31m---------------------------------------------------------------------------\u001b[0m",
            "\u001b[0;31mKeyError\u001b[0m                                  Traceback (most recent call last)",
            "\u001b[0;32m<ipython-input-22-7cd5edbc14fa>\u001b[0m in \u001b[0;36m<cell line: 2>\u001b[0;34m()\u001b[0m\n\u001b[1;32m      1\u001b[0m \u001b[0;31m# Drop the 'variable' column from the melted DataFrame\u001b[0m\u001b[0;34m\u001b[0m\u001b[0;34m\u001b[0m\u001b[0m\n\u001b[0;32m----> 2\u001b[0;31m \u001b[0mmelted_df\u001b[0m \u001b[0;34m=\u001b[0m \u001b[0mmelted_df\u001b[0m\u001b[0;34m.\u001b[0m\u001b[0mdrop\u001b[0m\u001b[0;34m(\u001b[0m\u001b[0mcolumns\u001b[0m\u001b[0;34m=\u001b[0m\u001b[0;34m[\u001b[0m\u001b[0;34m'variable'\u001b[0m\u001b[0;34m]\u001b[0m\u001b[0;34m)\u001b[0m\u001b[0;34m\u001b[0m\u001b[0;34m\u001b[0m\u001b[0m\n\u001b[0m\u001b[1;32m      3\u001b[0m \u001b[0;34m\u001b[0m\u001b[0m\n\u001b[1;32m      4\u001b[0m \u001b[0;34m\u001b[0m\u001b[0m\n",
            "\u001b[0;32m/usr/local/lib/python3.10/dist-packages/pandas/util/_decorators.py\u001b[0m in \u001b[0;36mwrapper\u001b[0;34m(*args, **kwargs)\u001b[0m\n\u001b[1;32m    329\u001b[0m                     \u001b[0mstacklevel\u001b[0m\u001b[0;34m=\u001b[0m\u001b[0mfind_stack_level\u001b[0m\u001b[0;34m(\u001b[0m\u001b[0;34m)\u001b[0m\u001b[0;34m,\u001b[0m\u001b[0;34m\u001b[0m\u001b[0;34m\u001b[0m\u001b[0m\n\u001b[1;32m    330\u001b[0m                 )\n\u001b[0;32m--> 331\u001b[0;31m             \u001b[0;32mreturn\u001b[0m \u001b[0mfunc\u001b[0m\u001b[0;34m(\u001b[0m\u001b[0;34m*\u001b[0m\u001b[0margs\u001b[0m\u001b[0;34m,\u001b[0m \u001b[0;34m**\u001b[0m\u001b[0mkwargs\u001b[0m\u001b[0;34m)\u001b[0m\u001b[0;34m\u001b[0m\u001b[0;34m\u001b[0m\u001b[0m\n\u001b[0m\u001b[1;32m    332\u001b[0m \u001b[0;34m\u001b[0m\u001b[0m\n\u001b[1;32m    333\u001b[0m         \u001b[0;31m# error: \"Callable[[VarArg(Any), KwArg(Any)], Any]\" has no\u001b[0m\u001b[0;34m\u001b[0m\u001b[0;34m\u001b[0m\u001b[0m\n",
            "\u001b[0;32m/usr/local/lib/python3.10/dist-packages/pandas/core/frame.py\u001b[0m in \u001b[0;36mdrop\u001b[0;34m(self, labels, axis, index, columns, level, inplace, errors)\u001b[0m\n\u001b[1;32m   5397\u001b[0m                 \u001b[0mweight\u001b[0m  \u001b[0;36m1.0\u001b[0m     \u001b[0;36m0.8\u001b[0m\u001b[0;34m\u001b[0m\u001b[0;34m\u001b[0m\u001b[0m\n\u001b[1;32m   5398\u001b[0m         \"\"\"\n\u001b[0;32m-> 5399\u001b[0;31m         return super().drop(\n\u001b[0m\u001b[1;32m   5400\u001b[0m             \u001b[0mlabels\u001b[0m\u001b[0;34m=\u001b[0m\u001b[0mlabels\u001b[0m\u001b[0;34m,\u001b[0m\u001b[0;34m\u001b[0m\u001b[0;34m\u001b[0m\u001b[0m\n\u001b[1;32m   5401\u001b[0m             \u001b[0maxis\u001b[0m\u001b[0;34m=\u001b[0m\u001b[0maxis\u001b[0m\u001b[0;34m,\u001b[0m\u001b[0;34m\u001b[0m\u001b[0;34m\u001b[0m\u001b[0m\n",
            "\u001b[0;32m/usr/local/lib/python3.10/dist-packages/pandas/util/_decorators.py\u001b[0m in \u001b[0;36mwrapper\u001b[0;34m(*args, **kwargs)\u001b[0m\n\u001b[1;32m    329\u001b[0m                     \u001b[0mstacklevel\u001b[0m\u001b[0;34m=\u001b[0m\u001b[0mfind_stack_level\u001b[0m\u001b[0;34m(\u001b[0m\u001b[0;34m)\u001b[0m\u001b[0;34m,\u001b[0m\u001b[0;34m\u001b[0m\u001b[0;34m\u001b[0m\u001b[0m\n\u001b[1;32m    330\u001b[0m                 )\n\u001b[0;32m--> 331\u001b[0;31m             \u001b[0;32mreturn\u001b[0m \u001b[0mfunc\u001b[0m\u001b[0;34m(\u001b[0m\u001b[0;34m*\u001b[0m\u001b[0margs\u001b[0m\u001b[0;34m,\u001b[0m \u001b[0;34m**\u001b[0m\u001b[0mkwargs\u001b[0m\u001b[0;34m)\u001b[0m\u001b[0;34m\u001b[0m\u001b[0;34m\u001b[0m\u001b[0m\n\u001b[0m\u001b[1;32m    332\u001b[0m \u001b[0;34m\u001b[0m\u001b[0m\n\u001b[1;32m    333\u001b[0m         \u001b[0;31m# error: \"Callable[[VarArg(Any), KwArg(Any)], Any]\" has no\u001b[0m\u001b[0;34m\u001b[0m\u001b[0;34m\u001b[0m\u001b[0m\n",
            "\u001b[0;32m/usr/local/lib/python3.10/dist-packages/pandas/core/generic.py\u001b[0m in \u001b[0;36mdrop\u001b[0;34m(self, labels, axis, index, columns, level, inplace, errors)\u001b[0m\n\u001b[1;32m   4503\u001b[0m         \u001b[0;32mfor\u001b[0m \u001b[0maxis\u001b[0m\u001b[0;34m,\u001b[0m \u001b[0mlabels\u001b[0m \u001b[0;32min\u001b[0m \u001b[0maxes\u001b[0m\u001b[0;34m.\u001b[0m\u001b[0mitems\u001b[0m\u001b[0;34m(\u001b[0m\u001b[0;34m)\u001b[0m\u001b[0;34m:\u001b[0m\u001b[0;34m\u001b[0m\u001b[0;34m\u001b[0m\u001b[0m\n\u001b[1;32m   4504\u001b[0m             \u001b[0;32mif\u001b[0m \u001b[0mlabels\u001b[0m \u001b[0;32mis\u001b[0m \u001b[0;32mnot\u001b[0m \u001b[0;32mNone\u001b[0m\u001b[0;34m:\u001b[0m\u001b[0;34m\u001b[0m\u001b[0;34m\u001b[0m\u001b[0m\n\u001b[0;32m-> 4505\u001b[0;31m                 \u001b[0mobj\u001b[0m \u001b[0;34m=\u001b[0m \u001b[0mobj\u001b[0m\u001b[0;34m.\u001b[0m\u001b[0m_drop_axis\u001b[0m\u001b[0;34m(\u001b[0m\u001b[0mlabels\u001b[0m\u001b[0;34m,\u001b[0m \u001b[0maxis\u001b[0m\u001b[0;34m,\u001b[0m \u001b[0mlevel\u001b[0m\u001b[0;34m=\u001b[0m\u001b[0mlevel\u001b[0m\u001b[0;34m,\u001b[0m \u001b[0merrors\u001b[0m\u001b[0;34m=\u001b[0m\u001b[0merrors\u001b[0m\u001b[0;34m)\u001b[0m\u001b[0;34m\u001b[0m\u001b[0;34m\u001b[0m\u001b[0m\n\u001b[0m\u001b[1;32m   4506\u001b[0m \u001b[0;34m\u001b[0m\u001b[0m\n\u001b[1;32m   4507\u001b[0m         \u001b[0;32mif\u001b[0m \u001b[0minplace\u001b[0m\u001b[0;34m:\u001b[0m\u001b[0;34m\u001b[0m\u001b[0;34m\u001b[0m\u001b[0m\n",
            "\u001b[0;32m/usr/local/lib/python3.10/dist-packages/pandas/core/generic.py\u001b[0m in \u001b[0;36m_drop_axis\u001b[0;34m(self, labels, axis, level, errors, only_slice)\u001b[0m\n\u001b[1;32m   4544\u001b[0m                 \u001b[0mnew_axis\u001b[0m \u001b[0;34m=\u001b[0m \u001b[0maxis\u001b[0m\u001b[0;34m.\u001b[0m\u001b[0mdrop\u001b[0m\u001b[0;34m(\u001b[0m\u001b[0mlabels\u001b[0m\u001b[0;34m,\u001b[0m \u001b[0mlevel\u001b[0m\u001b[0;34m=\u001b[0m\u001b[0mlevel\u001b[0m\u001b[0;34m,\u001b[0m \u001b[0merrors\u001b[0m\u001b[0;34m=\u001b[0m\u001b[0merrors\u001b[0m\u001b[0;34m)\u001b[0m\u001b[0;34m\u001b[0m\u001b[0;34m\u001b[0m\u001b[0m\n\u001b[1;32m   4545\u001b[0m             \u001b[0;32melse\u001b[0m\u001b[0;34m:\u001b[0m\u001b[0;34m\u001b[0m\u001b[0;34m\u001b[0m\u001b[0m\n\u001b[0;32m-> 4546\u001b[0;31m                 \u001b[0mnew_axis\u001b[0m \u001b[0;34m=\u001b[0m \u001b[0maxis\u001b[0m\u001b[0;34m.\u001b[0m\u001b[0mdrop\u001b[0m\u001b[0;34m(\u001b[0m\u001b[0mlabels\u001b[0m\u001b[0;34m,\u001b[0m \u001b[0merrors\u001b[0m\u001b[0;34m=\u001b[0m\u001b[0merrors\u001b[0m\u001b[0;34m)\u001b[0m\u001b[0;34m\u001b[0m\u001b[0;34m\u001b[0m\u001b[0m\n\u001b[0m\u001b[1;32m   4547\u001b[0m             \u001b[0mindexer\u001b[0m \u001b[0;34m=\u001b[0m \u001b[0maxis\u001b[0m\u001b[0;34m.\u001b[0m\u001b[0mget_indexer\u001b[0m\u001b[0;34m(\u001b[0m\u001b[0mnew_axis\u001b[0m\u001b[0;34m)\u001b[0m\u001b[0;34m\u001b[0m\u001b[0;34m\u001b[0m\u001b[0m\n\u001b[1;32m   4548\u001b[0m \u001b[0;34m\u001b[0m\u001b[0m\n",
            "\u001b[0;32m/usr/local/lib/python3.10/dist-packages/pandas/core/indexes/base.py\u001b[0m in \u001b[0;36mdrop\u001b[0;34m(self, labels, errors)\u001b[0m\n\u001b[1;32m   6932\u001b[0m         \u001b[0;32mif\u001b[0m \u001b[0mmask\u001b[0m\u001b[0;34m.\u001b[0m\u001b[0many\u001b[0m\u001b[0;34m(\u001b[0m\u001b[0;34m)\u001b[0m\u001b[0;34m:\u001b[0m\u001b[0;34m\u001b[0m\u001b[0;34m\u001b[0m\u001b[0m\n\u001b[1;32m   6933\u001b[0m             \u001b[0;32mif\u001b[0m \u001b[0merrors\u001b[0m \u001b[0;34m!=\u001b[0m \u001b[0;34m\"ignore\"\u001b[0m\u001b[0;34m:\u001b[0m\u001b[0;34m\u001b[0m\u001b[0;34m\u001b[0m\u001b[0m\n\u001b[0;32m-> 6934\u001b[0;31m                 \u001b[0;32mraise\u001b[0m \u001b[0mKeyError\u001b[0m\u001b[0;34m(\u001b[0m\u001b[0;34mf\"{list(labels[mask])} not found in axis\"\u001b[0m\u001b[0;34m)\u001b[0m\u001b[0;34m\u001b[0m\u001b[0;34m\u001b[0m\u001b[0m\n\u001b[0m\u001b[1;32m   6935\u001b[0m             \u001b[0mindexer\u001b[0m \u001b[0;34m=\u001b[0m \u001b[0mindexer\u001b[0m\u001b[0;34m[\u001b[0m\u001b[0;34m~\u001b[0m\u001b[0mmask\u001b[0m\u001b[0;34m]\u001b[0m\u001b[0;34m\u001b[0m\u001b[0;34m\u001b[0m\u001b[0m\n\u001b[1;32m   6936\u001b[0m         \u001b[0;32mreturn\u001b[0m \u001b[0mself\u001b[0m\u001b[0;34m.\u001b[0m\u001b[0mdelete\u001b[0m\u001b[0;34m(\u001b[0m\u001b[0mindexer\u001b[0m\u001b[0;34m)\u001b[0m\u001b[0;34m\u001b[0m\u001b[0;34m\u001b[0m\u001b[0m\n",
            "\u001b[0;31mKeyError\u001b[0m: \"['variable'] not found in axis\""
          ]
        }
      ],
      "source": [
        "# Drop the 'variable' column from the melted DataFrame\n",
        "melted_df = melted_df.drop(columns=['variable'])\n",
        "\n",
        "\n"
      ]
    },
    {
      "cell_type": "code",
      "execution_count": null,
      "id": "fb61f7b1",
      "metadata": {
        "id": "fb61f7b1"
      },
      "outputs": [],
      "source": [
        "# Rename the 'value' column to 'number_of_cases'\n",
        "melted_df.rename(columns={'value': 'number_of_cases'}, inplace=True)\n",
        "\n"
      ]
    },
    {
      "cell_type": "code",
      "execution_count": null,
      "id": "4a92cdc8",
      "metadata": {
        "colab": {
          "base_uri": "https://localhost:8080/"
        },
        "id": "4a92cdc8",
        "outputId": "05d6c2f3-226b-47d5-f9db-23c442a79c6e"
      },
      "outputs": [
        {
          "output_type": "stream",
          "name": "stdout",
          "text": [
            "           country  year diagnosis_method gender  number_of_cases\n",
            "0      Afghanistan  1980           new_sp   m014              NaN\n",
            "1      Afghanistan  1981           new_sp   m014              NaN\n",
            "2      Afghanistan  1982           new_sp   m014              NaN\n",
            "3      Afghanistan  1983           new_sp   m014              NaN\n",
            "4      Afghanistan  1984           new_sp   m014              NaN\n",
            "...            ...   ...              ...    ...              ...\n",
            "57915     Zimbabwe  2009           newrel   f014              NaN\n",
            "57916     Zimbabwe  2010           newrel   f014              NaN\n",
            "57917     Zimbabwe  2011           newrel   f014              NaN\n",
            "57918     Zimbabwe  2012           newrel   f014              NaN\n",
            "57919     Zimbabwe  2013           newrel   f014           1252.0\n",
            "\n",
            "[57920 rows x 5 columns]\n"
          ]
        }
      ],
      "source": [
        "# Reorder columns to match the desired format\n",
        "melted_df = melted_df[['country', 'year', 'diagnosis_method', 'gender', 'number_of_cases']]\n",
        "\n",
        "# Print the modified DataFrame\n",
        "print(melted_df)\n"
      ]
    },
    {
      "cell_type": "markdown",
      "id": "8b17ce01",
      "metadata": {
        "id": "8b17ce01"
      },
      "source": [
        "Question 3: Create a graph that shows when countries started to report TB cases."
      ]
    },
    {
      "cell_type": "code",
      "execution_count": null,
      "id": "8d2725ca",
      "metadata": {
        "colab": {
          "base_uri": "https://localhost:8080/",
          "height": 561
        },
        "id": "8d2725ca",
        "outputId": "07c74665-a992-42d7-eafe-a7e28e15ebec"
      },
      "outputs": [
        {
          "output_type": "stream",
          "name": "stderr",
          "text": [
            "<ipython-input-24-bed28734e6d4>:5: FutureWarning: The default value of numeric_only in DataFrameGroupBy.sum is deprecated. In a future version, numeric_only will default to False. Either specify numeric_only or select only columns which should be valid for the function.\n",
            "  melted_df_group = melted_df.groupby(['year', 'country']).sum().reset_index()\n",
            "<ipython-input-24-bed28734e6d4>:8: MatplotlibDeprecationWarning: The get_cmap function was deprecated in Matplotlib 3.7 and will be removed two minor releases later. Use ``matplotlib.colormaps[name]`` or ``matplotlib.colormaps.get_cmap(obj)`` instead.\n",
            "  color_map = cm.get_cmap('Set1')  # Choose the desired color map\n"
          ]
        },
        {
          "output_type": "display_data",
          "data": {
            "text/plain": [
              "<Figure size 640x480 with 1 Axes>"
            ],
            "image/png": "[encoded data removed]"
          },
          "metadata": {}
        }
      ],
      "source": [
        "import matplotlib.pyplot as plt\n",
        "import matplotlib.cm as cm\n",
        "\n",
        "# Group the melted DataFrame by year and country, and calculate the sum of number_of_cases\n",
        "melted_df_group = melted_df.groupby(['year', 'country']).sum().reset_index()\n",
        "\n",
        "# Create a scatter plot with a different color scheme\n",
        "color_map = cm.get_cmap('Set1')  # Choose the desired color map\n",
        "plt.scatter(melted_df_group['year'], melted_df_group['number_of_cases'], c=melted_df_group['country'].astype('category').cat.codes, cmap=color_map)\n",
        "\n",
        "# Set plot title, x-axis label, and y-axis label\n",
        "plt.title('Year vs Number of TB Cases')\n",
        "plt.xlabel('Year')\n",
        "plt.ylabel('Number of TB Cases')\n",
        "\n",
        "# Display the scatter plot\n",
        "plt.show()\n"
      ]
    },
    {
      "cell_type": "code",
      "execution_count": null,
      "id": "08f53242",
      "metadata": {
        "id": "08f53242"
      },
      "outputs": [],
      "source": []
    }
  ],
  "metadata": {
    "kernelspec": {
      "display_name": "Python 3 (ipykernel)",
      "language": "python",
      "name": "python3"
    },
    "language_info": {
      "codemirror_mode": {
        "name": "ipython",
        "version": 3
      },
      "file_extension": ".py",
      "mimetype": "text/x-python",
      "name": "python",
      "nbconvert_exporter": "python",
      "pygments_lexer": "ipython3",
      "version": "3.9.12"
    },
    "colab": {
      "provenance": []
    }
  },
  "nbformat": 4,
  "nbformat_minor": 5
}