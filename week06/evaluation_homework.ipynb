{
  "cells": [
    {
      "cell_type": "markdown",
      "metadata": {
        "id": "qQpdTeUIBzK1"
      },
      "source": [
        "# Classifier Evaluation Assignment\n",
        "\n",
        "- Complete this Jupyter Notebook.  \n",
        "- Execute the initial cells and answer the numbered questions.  \n",
        "- Don't import other libraries."
      ]
    },
    {
      "cell_type": "code",
      "execution_count": null,
      "metadata": {
        "colab": {
          "base_uri": "https://localhost:8080/",
          "height": 206
        },
        "id": "gvkSOszjBzK8",
        "outputId": "6de8e748-aead-432c-cc51-a7863e23068a"
      },
      "outputs": [
        {
          "output_type": "execute_result",
          "data": {
            "text/plain": [
              "   actual      prob\n",
              "0     0.0  0.380052\n",
              "1     1.0  0.827923\n",
              "2     1.0  0.929093\n",
              "3     1.0  0.472508\n",
              "4     1.0  0.906988"
            ],
            "text/html": [
              "\n",
              "  <div id=\"df-1f2a0e83-e0d4-477f-a766-659e5a2ae8e0\">\n",
              "    <div class=\"colab-df-container\">\n",
              "      <div>\n",
              "<style scoped>\n",
              "    .dataframe tbody tr th:only-of-type {\n",
              "        vertical-align: middle;\n",
              "    }\n",
              "\n",
              "    .dataframe tbody tr th {\n",
              "        vertical-align: top;\n",
              "    }\n",
              "\n",
              "    .dataframe thead th {\n",
              "        text-align: right;\n",
              "    }\n",
              "</style>\n",
              "<table border=\"1\" class=\"dataframe\">\n",
              "  <thead>\n",
              "    <tr style=\"text-align: right;\">\n",
              "      <th></th>\n",
              "      <th>actual</th>\n",
              "      <th>prob</th>\n",
              "    </tr>\n",
              "  </thead>\n",
              "  <tbody>\n",
              "    <tr>\n",
              "      <th>0</th>\n",
              "      <td>0.0</td>\n",
              "      <td>0.380052</td>\n",
              "    </tr>\n",
              "    <tr>\n",
              "      <th>1</th>\n",
              "      <td>1.0</td>\n",
              "      <td>0.827923</td>\n",
              "    </tr>\n",
              "    <tr>\n",
              "      <th>2</th>\n",
              "      <td>1.0</td>\n",
              "      <td>0.929093</td>\n",
              "    </tr>\n",
              "    <tr>\n",
              "      <th>3</th>\n",
              "      <td>1.0</td>\n",
              "      <td>0.472508</td>\n",
              "    </tr>\n",
              "    <tr>\n",
              "      <th>4</th>\n",
              "      <td>1.0</td>\n",
              "      <td>0.906988</td>\n",
              "    </tr>\n",
              "  </tbody>\n",
              "</table>\n",
              "</div>\n",
              "      <button class=\"colab-df-convert\" onclick=\"convertToInteractive('df-1f2a0e83-e0d4-477f-a766-659e5a2ae8e0')\"\n",
              "              title=\"Convert this dataframe to an interactive table.\"\n",
              "              style=\"display:none;\">\n",
              "        \n",
              "  <svg xmlns=\"http://www.w3.org/2000/svg\" height=\"24px\"viewBox=\"0 0 24 24\"\n",
              "       width=\"24px\">\n",
              "    <path d=\"M0 0h24v24H0V0z\" fill=\"none\"/>\n",
              "    <path d=\"M18.56 5.44l.94 2.06.94-2.06 2.06-.94-2.06-.94-.94-2.06-.94 2.06-2.06.94zm-11 1L8.5 8.5l.94-2.06 2.06-.94-2.06-.94L8.5 2.5l-.94 2.06-2.06.94zm10 10l.94 2.06.94-2.06 2.06-.94-2.06-.94-.94-2.06-.94 2.06-2.06.94z\"/><path d=\"M17.41 7.96l-1.37-1.37c-.4-.4-.92-.59-1.43-.59-.52 0-1.04.2-1.43.59L10.3 9.45l-7.72 7.72c-.78.78-.78 2.05 0 2.83L4 21.41c.39.39.9.59 1.41.59.51 0 1.02-.2 1.41-.59l7.78-7.78 2.81-2.81c.8-.78.8-2.07 0-2.86zM5.41 20L4 18.59l7.72-7.72 1.47 1.35L5.41 20z\"/>\n",
              "  </svg>\n",
              "      </button>\n",
              "      \n",
              "  <style>\n",
              "    .colab-df-container {\n",
              "      display:flex;\n",
              "      flex-wrap:wrap;\n",
              "      gap: 12px;\n",
              "    }\n",
              "\n",
              "    .colab-df-convert {\n",
              "      background-color: #E8F0FE;\n",
              "      border: none;\n",
              "      border-radius: 50%;\n",
              "      cursor: pointer;\n",
              "      display: none;\n",
              "      fill: #1967D2;\n",
              "      height: 32px;\n",
              "      padding: 0 0 0 0;\n",
              "      width: 32px;\n",
              "    }\n",
              "\n",
              "    .colab-df-convert:hover {\n",
              "      background-color: #E2EBFA;\n",
              "      box-shadow: 0px 1px 2px rgba(60, 64, 67, 0.3), 0px 1px 3px 1px rgba(60, 64, 67, 0.15);\n",
              "      fill: #174EA6;\n",
              "    }\n",
              "\n",
              "    [theme=dark] .colab-df-convert {\n",
              "      background-color: #3B4455;\n",
              "      fill: #D2E3FC;\n",
              "    }\n",
              "\n",
              "    [theme=dark] .colab-df-convert:hover {\n",
              "      background-color: #434B5C;\n",
              "      box-shadow: 0px 1px 3px 1px rgba(0, 0, 0, 0.15);\n",
              "      filter: drop-shadow(0px 1px 2px rgba(0, 0, 0, 0.3));\n",
              "      fill: #FFFFFF;\n",
              "    }\n",
              "  </style>\n",
              "\n",
              "      <script>\n",
              "        const buttonEl =\n",
              "          document.querySelector('#df-1f2a0e83-e0d4-477f-a766-659e5a2ae8e0 button.colab-df-convert');\n",
              "        buttonEl.style.display =\n",
              "          google.colab.kernel.accessAllowed ? 'block' : 'none';\n",
              "\n",
              "        async function convertToInteractive(key) {\n",
              "          const element = document.querySelector('#df-1f2a0e83-e0d4-477f-a766-659e5a2ae8e0');\n",
              "          const dataTable =\n",
              "            await google.colab.kernel.invokeFunction('convertToInteractive',\n",
              "                                                     [key], {});\n",
              "          if (!dataTable) return;\n",
              "\n",
              "          const docLinkHtml = 'Like what you see? Visit the ' +\n",
              "            '<a target=\"_blank\" href=https://colab.research.google.com/notebooks/data_table.ipynb>data table notebook</a>'\n",
              "            + ' to learn more about interactive tables.';\n",
              "          element.innerHTML = '';\n",
              "          dataTable['output_type'] = 'display_data';\n",
              "          await google.colab.output.renderOutput(dataTable, element);\n",
              "          const docLink = document.createElement('div');\n",
              "          docLink.innerHTML = docLinkHtml;\n",
              "          element.appendChild(docLink);\n",
              "        }\n",
              "      </script>\n",
              "    </div>\n",
              "  </div>\n",
              "  "
            ]
          },
          "metadata": {},
          "execution_count": 1
        }
      ],
      "source": [
        "import pandas as pd\n",
        "import numpy as np\n",
        "import matplotlib.pyplot as plt\n",
        "%matplotlib inline\n",
        "\n",
        "dataframe = pd.read_csv('https://raw.githubusercontent.com/msaricaumbc/DS_data/master/ds602/lab-evaluation-data.csv')\n",
        "dataframe.head()"
      ]
    },
    {
      "cell_type": "markdown",
      "metadata": {
        "id": "qKdIp3wVBzK9"
      },
      "source": [
        "## Data Definitions\n",
        "- `actual`: Whether the event was true or not. A value of 1.0 is True and 0.0 is False.  \n",
        "- `prob`: The probability that the event was True. This is estimated from a classification model."
      ]
    },
    {
      "cell_type": "markdown",
      "metadata": {
        "id": "fcT-CWV1BzK-"
      },
      "source": [
        "## Question 1\n",
        "- Determine the distribution of the actual event.\n",
        "- Would you be concerned about bias due to imbalance?"
      ]
    },
    {
      "cell_type": "code",
      "execution_count": null,
      "metadata": {
        "id": "ZsybpSLjBzK-"
      },
      "outputs": [],
      "source": [
        "# Calculate the percentage distribution of 'actual' values in the dataframe\n",
        "count_data = dataframe['actual'].value_counts(normalize=True) * 100\n"
      ]
    },
    {
      "cell_type": "code",
      "execution_count": null,
      "metadata": {
        "colab": {
          "base_uri": "https://localhost:8080/"
        },
        "id": "MMdZ7g9bBzK-",
        "outputId": "01434e64-9e03-4950-ddb6-666063143c2b"
      },
      "outputs": [
        {
          "output_type": "stream",
          "name": "stdout",
          "text": [
            "Count of the data:\n",
            "true: 60.00%\n",
            "false: 40.00%\n"
          ]
        }
      ],
      "source": [
        "print(\"Count of the data:\")\n",
        "print(\"true: {:.2f}%\".format(count_data[1]))\n",
        "print(\"false: {:.2f}%\".format(count_data[0]))"
      ]
    },
    {
      "cell_type": "markdown",
      "metadata": {
        "id": "F_nBgV5vBzK-"
      },
      "source": [
        "Imbalanced datasets can introduce bias in classification models and make it more challenging to predict the minority class. If the problem at hand requires accurate predictions for both True and False classes, then we might want to consider balancing the dataset or using different evaluation metrics that take into account the class imbalance."
      ]
    },
    {
      "cell_type": "markdown",
      "metadata": {
        "id": "9ZXUcCAuBzK-"
      },
      "source": [
        "## Question 2\n",
        "- Create a histogram that shows the distribution of the probabilities for the True and False classes.  \n",
        "- Describe what you observe."
      ]
    },
    {
      "cell_type": "code",
      "execution_count": null,
      "metadata": {
        "colab": {
          "base_uri": "https://localhost:8080/",
          "height": 472
        },
        "id": "dfN9MotDBzK_",
        "outputId": "667167c8-ab39-479c-d027-8bca3edca551"
      },
      "outputs": [
        {
          "output_type": "display_data",
          "data": {
            "text/plain": [
              "<Figure size 640x480 with 1 Axes>"
            ],
            "image/png": "[encoded data removed]"
          },
          "metadata": {}
        }
      ],
      "source": [
        "# Extract probabilities for true and false classes\n",
        "true_prob = dataframe[dataframe['actual'] == 1]['prob']\n",
        "false_prob = dataframe[dataframe['actual'] == 0]['prob']\n",
        "\n",
        "# Plot the histogram of probabilities for true and false classes\n",
        "plt.hist(true_prob, bins=20, alpha=0.7, label='True', color='blue')\n",
        "plt.hist(false_prob, bins=20, alpha=0.7, label='False', color='red')\n",
        "plt.title(\"Histogram of Probabilities for the True and False Classes\")\n",
        "plt.xlabel(\"Probabilities\")\n",
        "plt.ylabel(\"Frequency\")\n",
        "plt.legend(loc='upper right')\n",
        "plt.show()\n"
      ]
    },
    {
      "cell_type": "markdown",
      "metadata": {
        "id": "-7BztgzsBzK_"
      },
      "source": [
        "From the above histogram I can observe only the probability of false classes. This could indicate that the classification model is not able to distinguish well between the two classes. It's also possible that the dataset itself is inherently difficult to classify and the lack of separation is due to the nature of the data. "
      ]
    },
    {
      "cell_type": "markdown",
      "metadata": {
        "id": "1tp7UTdmBzK_"
      },
      "source": [
        "## Question 3\n",
        "- Create a simple confusion matrix. Use `0.5` as the threshold for whether an observation should be considered True or False.  \n",
        "- Comment on what you observe."
      ]
    },
    {
      "cell_type": "code",
      "execution_count": null,
      "metadata": {
        "colab": {
          "base_uri": "https://localhost:8080/"
        },
        "id": "0C3peigOBzK_",
        "outputId": "6e78c3b6-4b07-468d-adea-5679a605c863"
      },
      "outputs": [
        {
          "output_type": "stream",
          "name": "stdout",
          "text": [
            "Confusion Matrix:\n",
            "True Positives:  2623\n",
            "False Positives:  210\n",
            "True Negatives:  1790\n",
            "False Negatives:  377\n"
          ]
        }
      ],
      "source": [
        "# insert code here\n",
        "trueLabels = dataframe['actual']\n",
        "predLabels = (dataframe['prob'] >= 0.5).astype(int)\n",
        "\n",
        "\n",
        "TruePositive = np.sum((predLabels == 1) & (trueLabels == 1))\n",
        "FalsePositive = np.sum((predLabels == 1) & (trueLabels == 0))\n",
        "TrueNegative = np.sum((predLabels == 0) & (trueLabels == 0))\n",
        "FalseNegative = np.sum((predLabels == 0) & (trueLabels == 1))\n",
        "\n",
        "print(\"Confusion Matrix:\")\n",
        "print(\"True Positives: \", TruePositive)\n",
        "print(\"False Positives: \", FalsePositive)\n",
        "print(\"True Negatives: \", TrueNegative)\n",
        "print(\"False Negatives: \", FalseNegative)"
      ]
    },
    {
      "cell_type": "markdown",
      "metadata": {
        "id": "yjb63oPhBzLA"
      },
      "source": [
        "Based on the confusion matrix we can observe that the classification model predicted 1790 True negatives and 210 false positives, while it incorrectly predicted 377 False negatives and 2623 True positives. A high true positive percentage indicates that the model is effective at distinguishing between the positive and negative classes, which is important for minimizing the number of false negatives."
      ]
    },
    {
      "cell_type": "markdown",
      "metadata": {
        "id": "W6pWPeoRBzLA"
      },
      "source": [
        "## Question 4\n",
        "- Calculate the accuracy, precision, and recall `without` using any pre-built functions.\n",
        "- Which measure would you use if this was your model and why?"
      ]
    },
    {
      "cell_type": "code",
      "execution_count": null,
      "metadata": {
        "id": "3lYTgwl4BzLA"
      },
      "outputs": [],
      "source": [
        "# insert code here\n",
        "acc = (TruePositive + TrueNegative) / (TruePositive + TrueNegative + FalsePositive + FalseNegative)\n",
        "prec = TruePositive / (TruePositive + FalsePositive)\n",
        "recall = TruePositive / (TruePositive + FalseNegative)"
      ]
    },
    {
      "cell_type": "code",
      "execution_count": null,
      "metadata": {
        "colab": {
          "base_uri": "https://localhost:8080/"
        },
        "id": "XF6hRnolBzLA",
        "outputId": "141eb56a-499d-4e7d-ef42-a44cb4710535"
      },
      "outputs": [
        {
          "output_type": "stream",
          "name": "stdout",
          "text": [
            "Accuracy: 0.8826\n",
            "Recall: 0.8743333333333333\n",
            "Precision: 0.9258736321920226\n"
          ]
        }
      ],
      "source": [
        "# Print the evaluation metrics\n",
        "print(\"Accuracy:\", acc)\n",
        "print(\"Recall:\", recall)\n",
        "print(\"Precision:\", prec)"
      ]
    },
    {
      "cell_type": "markdown",
      "metadata": {
        "id": "6xmSzGFVBzLA"
      },
      "source": [
        "Recall specifically measures the proportion of true positive predictions among all actual positive cases. By focusing on recall, I would aim to ensure that the model accurately identifies as many positive instances as possible, reducing the chances of missing any relevant cases."
      ]
    },
    {
      "cell_type": "markdown",
      "metadata": {
        "id": "eHpsre0HBzLB"
      },
      "source": [
        "## Question 5\n",
        "- Construct a ROC curve plot.  \n",
        "- Comment on the fit of the model based on this chart."
      ]
    },
    {
      "cell_type": "code",
      "execution_count": null,
      "metadata": {
        "id": "kVcfmN7GBzLB",
        "outputId": "04d23f20-74b9-4d93-d92b-ba094fefc814"
      },
      "outputs": [
        {
          "data": {
            "image/png": "[encoded data removed]",
            "text/plain": [
              "<Figure size 432x288 with 1 Axes>"
            ]
          },
          "metadata": {
            "needs_background": "light"
          },
          "output_type": "display_data"
        }
      ],
      "source": [
        "# Insert code here\n",
        "# Separate the actual classes (0 or 1) from the predicted probabilities\n",
        "true = dataframe['actual']\n",
        "prob = dataframe['prob']\n",
        "\n",
        "# Set the threshold values to use for classification\n",
        "thresholds = np.linspace(0, 1, 101)\n",
        "\n",
        "# Calculate the true positive rate (TPR) and false positive rate (FPR) for each threshold\n",
        "TPR_list = []\n",
        "FPR_list = []\n",
        "for t in thresholds:\n",
        "    # Convert the predicted probabilities to binary predictions using the threshold\n",
        "    y_pred = np.where(prob >= t, 1, 0)\n",
        "    # Calculate the number of true positives (TP), false positives (FP), true negatives (TN), and false negatives (FN)\n",
        "    TP = np.sum((true == 1) & (y_pred == 1))\n",
        "    FP = np.sum((true == 0) & (y_pred == 1))\n",
        "    TN = np.sum((true == 0) & (y_pred == 0))\n",
        "    FN = np.sum((true == 1) & (y_pred == 0))\n",
        "    # Calculate the TPR and FPR for the current threshold\n",
        "    TPR = TP / (TP + FN)\n",
        "    FPR = FP / (FP + TN)\n",
        "    # Append the TPR and FPR to the lists\n",
        "    TPR_list.append(TPR)\n",
        "    FPR_list.append(FPR)\n",
        "\n",
        "# Plot the ROC curve\n",
        "plt.plot(FPR_list, TPR_list)\n",
        "plt.plot([0, 1], [0, 1], linestyle='--', color='gray')\n",
        "plt.xlabel('False Positive Rate')\n",
        "plt.ylabel('True Positive Rate')\n",
        "plt.title('ROC Curve')\n",
        "plt.show()\n"
      ]
    },
    {
      "cell_type": "code",
      "source": [
        "actual_classes = dataframe['actual']\n",
        "predicted_probabilities = dataframe['prob']\n",
        "\n",
        "thresholds = np.linspace(0, 1, 101)\n",
        "\n",
        "true_positive_rates = []\n",
        "false_positive_rates = []\n",
        "for threshold in thresholds:\n",
        "  # Convert the predicted probabilities to binary predictions using the threshold\n",
        "  binary_predictions = np.where(predicted_probabilities >= threshold, 1, 0)\n",
        "  # Calculate the number of true positives (TP), false positives (FP), true negatives (TN), and false negatives (FN)\n",
        "  true_positives = np.sum((actual_classes == 1) & (binary_predictions == 1))\n",
        "  false_positives = np.sum((actual_classes == 0) & (binary_predictions == 1))\n",
        "  true_negatives = np.sum((actual_classes == 0) & (binary_predictions == 0))\n",
        "  false_negatives = np.sum((actual_classes == 1) & (binary_predictions == 0))\n",
        "  # Calculate the TPR and FPR for the current threshold\n",
        "  true_positive_rate = true_positives / (true_positives + false_negatives)\n",
        "  false_positive_rate = false_positives / (false_positives + true_negatives)\n",
        "  # Append the TPR and FPR to the lists\n",
        "  true_positive_rates.append(true_positive_rate)\n",
        "  false_positive_rates.append(false_positive_rate)\n",
        "\n",
        "\n",
        "plt.plot(false_positive_rates, true_positive_rates)\n",
        "plt.plot([0, 1], [0, 1], linestyle='--', color='gray')\n",
        "plt.xlabel('False Positive Rate')\n",
        "plt.ylabel('True Positive Rate')\n",
        "plt.title('Receiver Operating Characteristic (ROC) Curve')\n",
        "plt.show()\n"
      ],
      "metadata": {
        "colab": {
          "base_uri": "https://localhost:8080/",
          "height": 472
        },
        "id": "jFnszoTVDoS-",
        "outputId": "2beb772f-b3fc-4c49-ae28-5e0fd9d3a9d5"
      },
      "execution_count": null,
      "outputs": [
        {
          "output_type": "display_data",
          "data": {
            "text/plain": [
              "<Figure size 640x480 with 1 Axes>"
            ],
            "image/png": "[encoded data removed]"
          },
          "metadata": {}
        }
      ]
    },
    {
      "cell_type": "code",
      "source": [],
      "metadata": {
        "id": "u79NfDWMFWp0"
      },
      "execution_count": null,
      "outputs": []
    },
    {
      "cell_type": "markdown",
      "metadata": {
        "id": "X1SRhC8BBzLB"
      },
      "source": [
        "The ROC curve shows that the model's performance is better than random guessing. The curve is located above the diagonal line, indicating that the true positive rate is higher than the false positive rate. A larger distance between the ROC curve and the diagonal line indicates better model performance."
      ]
    },
    {
      "cell_type": "markdown",
      "source": [],
      "metadata": {
        "id": "Y-LCJKk3DzF4"
      }
    },
    {
      "cell_type": "code",
      "execution_count": null,
      "metadata": {
        "id": "kZbi6_oGBzLB"
      },
      "outputs": [],
      "source": []
    }
  ],
  "metadata": {
    "kernelspec": {
      "display_name": "Python 3 (ipykernel)",
      "language": "python",
      "name": "python3"
    },
    "language_info": {
      "codemirror_mode": {
        "name": "ipython",
        "version": 3
      },
      "file_extension": ".py",
      "mimetype": "text/x-python",
      "name": "python",
      "nbconvert_exporter": "python",
      "pygments_lexer": "ipython3",
      "version": "3.9.12"
    },
    "toc": {
      "base_numbering": 1,
      "nav_menu": {},
      "number_sections": false,
      "sideBar": true,
      "skip_h1_title": false,
      "title_cell": "Table of Contents",
      "title_sidebar": "Contents",
      "toc_cell": false,
      "toc_position": {},
      "toc_section_display": true,
      "toc_window_display": false
    },
    "colab": {
      "provenance": []
    }
  },
  "nbformat": 4,
  "nbformat_minor": 0
}