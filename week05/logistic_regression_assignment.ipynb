{
  "cells": [
    {
      "cell_type": "markdown",
      "metadata": {
        "id": "bvH9Rkz_5s7M"
      },
      "source": [
        "# Logistic Regression Assignment\n",
        "\n",
        "- Run the below cells. If you have the data in a different directory, you'll need to change the url.\n",
        "- Complete all of the numbered questions. You may call any packages that we've used in class.  "
      ]
    },
    {
      "cell_type": "code",
      "execution_count": null,
      "metadata": {
        "colab": {
          "base_uri": "https://localhost:8080/",
          "height": 357
        },
        "id": "79qlcksO5s7N",
        "outputId": "4d7bd3d2-622a-4c43-e859-ac46fddf7809"
      },
      "outputs": [
        {
          "output_type": "execute_result",
          "data": {
            "text/plain": [
              "  left_company  age frequency_of_travel              department  \\\n",
              "0           No   37       Travel_Rarely                   Sales   \n",
              "1           No   39       Travel_Rarely  Research & Development   \n",
              "2           No   52   Travel_Frequently  Research & Development   \n",
              "3           No   50          Non-Travel                   Sales   \n",
              "4           No   44       Travel_Rarely  Research & Development   \n",
              "\n",
              "   commuting_distance  education  satisfaction_with_environment  gender  \\\n",
              "0                  16          4                              4    Male   \n",
              "1                   3          2                              3    Male   \n",
              "2                  25          4                              3  Female   \n",
              "3                   1          3                              4  Female   \n",
              "4                   4          3                              4    Male   \n",
              "\n",
              "   seniority_level                   position  satisfaction_with_job  \\\n",
              "0                2            Sales Executive                      3   \n",
              "1                2      Laboratory Technician                      3   \n",
              "2                4     Manufacturing Director                      4   \n",
              "3                2            Sales Executive                      3   \n",
              "4                2  Healthcare Representative                      2   \n",
              "\n",
              "  married_or_single  last_raise_pct  last_performance_rating  \\\n",
              "0          Divorced              19                        3   \n",
              "1          Divorced              15                        3   \n",
              "2           Married              22                        4   \n",
              "3           Married              12                        3   \n",
              "4            Single              12                        3   \n",
              "\n",
              "   total_years_working  years_at_company  years_in_current_job  \\\n",
              "0                    9                 1                     0   \n",
              "1                   11                10                     8   \n",
              "2                   31                 9                     8   \n",
              "3                   19                18                     7   \n",
              "4                   10                 5                     2   \n",
              "\n",
              "   years_since_last_promotion  years_with_current_supervisor  \n",
              "0                           0                              0  \n",
              "1                           0                              7  \n",
              "2                           0                              0  \n",
              "3                           0                             13  \n",
              "4                           2                              3  "
            ],
            "text/html": [
              "\n",
              "  <div id=\"df-2172d098-c853-4dd8-82db-5828c1dd4204\">\n",
              "    <div class=\"colab-df-container\">\n",
              "      <div>\n",
              "<style scoped>\n",
              "    .dataframe tbody tr th:only-of-type {\n",
              "        vertical-align: middle;\n",
              "    }\n",
              "\n",
              "    .dataframe tbody tr th {\n",
              "        vertical-align: top;\n",
              "    }\n",
              "\n",
              "    .dataframe thead th {\n",
              "        text-align: right;\n",
              "    }\n",
              "</style>\n",
              "<table border=\"1\" class=\"dataframe\">\n",
              "  <thead>\n",
              "    <tr style=\"text-align: right;\">\n",
              "      <th></th>\n",
              "      <th>left_company</th>\n",
              "      <th>age</th>\n",
              "      <th>frequency_of_travel</th>\n",
              "      <th>department</th>\n",
              "      <th>commuting_distance</th>\n",
              "      <th>education</th>\n",
              "      <th>satisfaction_with_environment</th>\n",
              "      <th>gender</th>\n",
              "      <th>seniority_level</th>\n",
              "      <th>position</th>\n",
              "      <th>satisfaction_with_job</th>\n",
              "      <th>married_or_single</th>\n",
              "      <th>last_raise_pct</th>\n",
              "      <th>last_performance_rating</th>\n",
              "      <th>total_years_working</th>\n",
              "      <th>years_at_company</th>\n",
              "      <th>years_in_current_job</th>\n",
              "      <th>years_since_last_promotion</th>\n",
              "      <th>years_with_current_supervisor</th>\n",
              "    </tr>\n",
              "  </thead>\n",
              "  <tbody>\n",
              "    <tr>\n",
              "      <th>0</th>\n",
              "      <td>No</td>\n",
              "      <td>37</td>\n",
              "      <td>Travel_Rarely</td>\n",
              "      <td>Sales</td>\n",
              "      <td>16</td>\n",
              "      <td>4</td>\n",
              "      <td>4</td>\n",
              "      <td>Male</td>\n",
              "      <td>2</td>\n",
              "      <td>Sales Executive</td>\n",
              "      <td>3</td>\n",
              "      <td>Divorced</td>\n",
              "      <td>19</td>\n",
              "      <td>3</td>\n",
              "      <td>9</td>\n",
              "      <td>1</td>\n",
              "      <td>0</td>\n",
              "      <td>0</td>\n",
              "      <td>0</td>\n",
              "    </tr>\n",
              "    <tr>\n",
              "      <th>1</th>\n",
              "      <td>No</td>\n",
              "      <td>39</td>\n",
              "      <td>Travel_Rarely</td>\n",
              "      <td>Research &amp; Development</td>\n",
              "      <td>3</td>\n",
              "      <td>2</td>\n",
              "      <td>3</td>\n",
              "      <td>Male</td>\n",
              "      <td>2</td>\n",
              "      <td>Laboratory Technician</td>\n",
              "      <td>3</td>\n",
              "      <td>Divorced</td>\n",
              "      <td>15</td>\n",
              "      <td>3</td>\n",
              "      <td>11</td>\n",
              "      <td>10</td>\n",
              "      <td>8</td>\n",
              "      <td>0</td>\n",
              "      <td>7</td>\n",
              "    </tr>\n",
              "    <tr>\n",
              "      <th>2</th>\n",
              "      <td>No</td>\n",
              "      <td>52</td>\n",
              "      <td>Travel_Frequently</td>\n",
              "      <td>Research &amp; Development</td>\n",
              "      <td>25</td>\n",
              "      <td>4</td>\n",
              "      <td>3</td>\n",
              "      <td>Female</td>\n",
              "      <td>4</td>\n",
              "      <td>Manufacturing Director</td>\n",
              "      <td>4</td>\n",
              "      <td>Married</td>\n",
              "      <td>22</td>\n",
              "      <td>4</td>\n",
              "      <td>31</td>\n",
              "      <td>9</td>\n",
              "      <td>8</td>\n",
              "      <td>0</td>\n",
              "      <td>0</td>\n",
              "    </tr>\n",
              "    <tr>\n",
              "      <th>3</th>\n",
              "      <td>No</td>\n",
              "      <td>50</td>\n",
              "      <td>Non-Travel</td>\n",
              "      <td>Sales</td>\n",
              "      <td>1</td>\n",
              "      <td>3</td>\n",
              "      <td>4</td>\n",
              "      <td>Female</td>\n",
              "      <td>2</td>\n",
              "      <td>Sales Executive</td>\n",
              "      <td>3</td>\n",
              "      <td>Married</td>\n",
              "      <td>12</td>\n",
              "      <td>3</td>\n",
              "      <td>19</td>\n",
              "      <td>18</td>\n",
              "      <td>7</td>\n",
              "      <td>0</td>\n",
              "      <td>13</td>\n",
              "    </tr>\n",
              "    <tr>\n",
              "      <th>4</th>\n",
              "      <td>No</td>\n",
              "      <td>44</td>\n",
              "      <td>Travel_Rarely</td>\n",
              "      <td>Research &amp; Development</td>\n",
              "      <td>4</td>\n",
              "      <td>3</td>\n",
              "      <td>4</td>\n",
              "      <td>Male</td>\n",
              "      <td>2</td>\n",
              "      <td>Healthcare Representative</td>\n",
              "      <td>2</td>\n",
              "      <td>Single</td>\n",
              "      <td>12</td>\n",
              "      <td>3</td>\n",
              "      <td>10</td>\n",
              "      <td>5</td>\n",
              "      <td>2</td>\n",
              "      <td>2</td>\n",
              "      <td>3</td>\n",
              "    </tr>\n",
              "  </tbody>\n",
              "</table>\n",
              "</div>\n",
              "      <button class=\"colab-df-convert\" onclick=\"convertToInteractive('df-2172d098-c853-4dd8-82db-5828c1dd4204')\"\n",
              "              title=\"Convert this dataframe to an interactive table.\"\n",
              "              style=\"display:none;\">\n",
              "        \n",
              "  <svg xmlns=\"http://www.w3.org/2000/svg\" height=\"24px\"viewBox=\"0 0 24 24\"\n",
              "       width=\"24px\">\n",
              "    <path d=\"M0 0h24v24H0V0z\" fill=\"none\"/>\n",
              "    <path d=\"M18.56 5.44l.94 2.06.94-2.06 2.06-.94-2.06-.94-.94-2.06-.94 2.06-2.06.94zm-11 1L8.5 8.5l.94-2.06 2.06-.94-2.06-.94L8.5 2.5l-.94 2.06-2.06.94zm10 10l.94 2.06.94-2.06 2.06-.94-2.06-.94-.94-2.06-.94 2.06-2.06.94z\"/><path d=\"M17.41 7.96l-1.37-1.37c-.4-.4-.92-.59-1.43-.59-.52 0-1.04.2-1.43.59L10.3 9.45l-7.72 7.72c-.78.78-.78 2.05 0 2.83L4 21.41c.39.39.9.59 1.41.59.51 0 1.02-.2 1.41-.59l7.78-7.78 2.81-2.81c.8-.78.8-2.07 0-2.86zM5.41 20L4 18.59l7.72-7.72 1.47 1.35L5.41 20z\"/>\n",
              "  </svg>\n",
              "      </button>\n",
              "      \n",
              "  <style>\n",
              "    .colab-df-container {\n",
              "      display:flex;\n",
              "      flex-wrap:wrap;\n",
              "      gap: 12px;\n",
              "    }\n",
              "\n",
              "    .colab-df-convert {\n",
              "      background-color: #E8F0FE;\n",
              "      border: none;\n",
              "      border-radius: 50%;\n",
              "      cursor: pointer;\n",
              "      display: none;\n",
              "      fill: #1967D2;\n",
              "      height: 32px;\n",
              "      padding: 0 0 0 0;\n",
              "      width: 32px;\n",
              "    }\n",
              "\n",
              "    .colab-df-convert:hover {\n",
              "      background-color: #E2EBFA;\n",
              "      box-shadow: 0px 1px 2px rgba(60, 64, 67, 0.3), 0px 1px 3px 1px rgba(60, 64, 67, 0.15);\n",
              "      fill: #174EA6;\n",
              "    }\n",
              "\n",
              "    [theme=dark] .colab-df-convert {\n",
              "      background-color: #3B4455;\n",
              "      fill: #D2E3FC;\n",
              "    }\n",
              "\n",
              "    [theme=dark] .colab-df-convert:hover {\n",
              "      background-color: #434B5C;\n",
              "      box-shadow: 0px 1px 3px 1px rgba(0, 0, 0, 0.15);\n",
              "      filter: drop-shadow(0px 1px 2px rgba(0, 0, 0, 0.3));\n",
              "      fill: #FFFFFF;\n",
              "    }\n",
              "  </style>\n",
              "\n",
              "      <script>\n",
              "        const buttonEl =\n",
              "          document.querySelector('#df-2172d098-c853-4dd8-82db-5828c1dd4204 button.colab-df-convert');\n",
              "        buttonEl.style.display =\n",
              "          google.colab.kernel.accessAllowed ? 'block' : 'none';\n",
              "\n",
              "        async function convertToInteractive(key) {\n",
              "          const element = document.querySelector('#df-2172d098-c853-4dd8-82db-5828c1dd4204');\n",
              "          const dataTable =\n",
              "            await google.colab.kernel.invokeFunction('convertToInteractive',\n",
              "                                                     [key], {});\n",
              "          if (!dataTable) return;\n",
              "\n",
              "          const docLinkHtml = 'Like what you see? Visit the ' +\n",
              "            '<a target=\"_blank\" href=https://colab.research.google.com/notebooks/data_table.ipynb>data table notebook</a>'\n",
              "            + ' to learn more about interactive tables.';\n",
              "          element.innerHTML = '';\n",
              "          dataTable['output_type'] = 'display_data';\n",
              "          await google.colab.output.renderOutput(dataTable, element);\n",
              "          const docLink = document.createElement('div');\n",
              "          docLink.innerHTML = docLinkHtml;\n",
              "          element.appendChild(docLink);\n",
              "        }\n",
              "      </script>\n",
              "    </div>\n",
              "  </div>\n",
              "  "
            ]
          },
          "metadata": {},
          "execution_count": 1
        }
      ],
      "source": [
        "import pandas as pd\n",
        "import numpy as np\n",
        "import matplotlib.pyplot as plt\n",
        "%matplotlib inline\n",
        "\n",
        "df = pd.read_csv('https://raw.githubusercontent.com/msaricaumbc/DS_data/master/ds602/log_reg/employee-turnover-balanced.csv')\n",
        "df.head()"
      ]
    },
    {
      "cell_type": "markdown",
      "metadata": {
        "id": "tKSNOYH65s7O"
      },
      "source": [
        "## Data Definitions\n",
        "- `left_company`: Whether individual left the company or not. This is the target variable.  \n",
        "- `age`: Age of individual. \n",
        "- `frequency_of_travel`: How often person travels for work.  \n",
        "- `department`: Department person works(worked).  \n",
        "- `commuting_distance`: Distance person lives from office.  \n",
        "- `education`: Highest education category.  \n",
        "- `satisfaction_with_environment`: Satisfaction of environment, on lickert scale.  \n",
        "- `gender`: Gender of individual.  \n",
        "- `seniority_level`: Seniority level of individual.  \n",
        "- `position`: Last position held at the company.  \n",
        "- `satisfaction_with_job`: Satisfaction of their job, on lickert scale.  \n",
        "- `married_or_single`: Marital status of person.  \n",
        "- `last_raise_pct`: Percent increase their last raise represented.  \n",
        "- `last_performance_rating`: Most recent annual performance rating, on lickert scale.  \n",
        "- `total_years_working`: Number of years the individual has spent working in their career.  \n",
        "- `years_at_company`: Number of years the individual has been at the company, regardless of position.  \n",
        "- `years_in_current_job`: Number of years the individual has been in their current position.  \n",
        "- `years_since_last_promotion`: Years since the person had their last promotion.  \n",
        "- `years_with_current_supervisor`: Years the person has had their current supervisor."
      ]
    },
    {
      "cell_type": "code",
      "execution_count": null,
      "metadata": {
        "id": "v5ctLDDY5s7O"
      },
      "outputs": [],
      "source": []
    },
    {
      "cell_type": "markdown",
      "metadata": {
        "id": "fDoqNTjv5s7P"
      },
      "source": [
        "# Question 1\n",
        "- What is the distribution of the target (`left_company`)?  \n",
        "- Do you have any concerns on class imbalances?"
      ]
    },
    {
      "cell_type": "code",
      "execution_count": null,
      "metadata": {
        "colab": {
          "base_uri": "https://localhost:8080/"
        },
        "id": "8xlrBIqh5s7P",
        "outputId": "4df86bb2-6af7-45ef-8904-1f6f8ad2250e"
      },
      "outputs": [
        {
          "output_type": "stream",
          "name": "stdout",
          "text": [
            "Value counts of the 'left_company' column:\n",
            "No     500\n",
            "Yes    500\n",
            "Name: left_company, dtype: int64\n"
          ]
        }
      ],
      "source": [
        "# Print the value counts of the 'left_company' column\n",
        "print(\"Value counts of the 'left_company' column:\")\n",
        "print(df['left_company'].value_counts())\n"
      ]
    },
    {
      "cell_type": "markdown",
      "metadata": {
        "id": "e_YmA6QN5s7P"
      },
      "source": [
        "Here Class 'No' has 500 values and Class 'Yes' has 500 values. So I do not see any imbalances in distribution."
      ]
    },
    {
      "cell_type": "markdown",
      "metadata": {
        "id": "NuUHg0hB5s7P"
      },
      "source": [
        "# Question 2\n",
        "- Create and print a list of the variables that you would treat as numerical and another list for the variables that you would treat as categorical.  \n",
        "- Explain your choices."
      ]
    },
    {
      "cell_type": "code",
      "execution_count": null,
      "metadata": {
        "id": "fcjoGvuD5s7P"
      },
      "outputs": [],
      "source": [
        "num_variables = ['years_at_company', 'years_in_current_job', 'years_since_last_promotion', 'total_years_working', 'age', 'commuting_distance', 'seniority_level', 'satisfaction_with_job', 'years_with_current_supervisor', 'satisfaction_with_environment', 'last_performance_rating', 'last_raise_pct']\n",
        "cate_variable = ['frequency_of_travel', 'gender', 'seniority_level', 'satisfaction_with_job', 'education', 'position', 'left_company', 'department', 'married_or_single']"
      ]
    },
    {
      "cell_type": "markdown",
      "metadata": {
        "id": "KPUrCFge5s7Q"
      },
      "source": [
        "numerical variables are about numbers and measurements, while categorical variables are about different groups or options. Each type of variable serves a different purpose in analyzing and understanding data."
      ]
    },
    {
      "cell_type": "markdown",
      "metadata": {
        "id": "7IjcH34w5s7Q"
      },
      "source": [
        "# Question 3\n",
        "- Determine if any numerical variables risk multicolinearity.  \n",
        "- Remove those variables (if any) from your numerical_vars list.  \n",
        "- Why did you or did not remove any?"
      ]
    },
    {
      "cell_type": "code",
      "execution_count": null,
      "metadata": {
        "colab": {
          "base_uri": "https://localhost:8080/"
        },
        "id": "06kl9dGC5s7Q",
        "outputId": "4d44ab08-21e2-421d-a385-fdc35635f8d2"
      },
      "outputs": [
        {
          "output_type": "stream",
          "name": "stdout",
          "text": [
            "Correlation Matrix:\n",
            "                               years_at_company  years_in_current_job  \\\n",
            "years_at_company                       1.000000              0.801423   \n",
            "years_in_current_job                   0.801423              1.000000   \n",
            "years_since_last_promotion             0.630344              0.611928   \n",
            "total_years_working                    0.685955              0.548494   \n",
            "age                                    0.384760              0.310010   \n",
            "commuting_distance                     0.023017              0.031890   \n",
            "seniority_level                        0.572724              0.478151   \n",
            "satisfaction_with_job                  0.071920              0.037591   \n",
            "years_with_current_supervisor          0.781147              0.781647   \n",
            "satisfaction_with_environment          0.001339              0.023698   \n",
            "last_performance_rating                0.022364              0.087038   \n",
            "last_raise_pct                         0.004435              0.039691   \n",
            "\n",
            "                               years_since_last_promotion  \\\n",
            "years_at_company                                 0.630344   \n",
            "years_in_current_job                             0.611928   \n",
            "years_since_last_promotion                       1.000000   \n",
            "total_years_working                              0.423619   \n",
            "age                                              0.242456   \n",
            "commuting_distance                               0.047552   \n",
            "seniority_level                                  0.392935   \n",
            "satisfaction_with_job                            0.038015   \n",
            "years_with_current_supervisor                    0.599529   \n",
            "satisfaction_with_environment                    0.042132   \n",
            "last_performance_rating                          0.030595   \n",
            "last_raise_pct                                   0.000615   \n",
            "\n",
            "                               total_years_working       age  \\\n",
            "years_at_company                          0.685955  0.384760   \n",
            "years_in_current_job                      0.548494  0.310010   \n",
            "years_since_last_promotion                0.423619  0.242456   \n",
            "total_years_working                       1.000000  0.673804   \n",
            "age                                       0.673804  1.000000   \n",
            "commuting_distance                        0.025593  0.012074   \n",
            "seniority_level                           0.779351  0.522604   \n",
            "satisfaction_with_job                     0.029119  0.095242   \n",
            "years_with_current_supervisor             0.506007  0.273679   \n",
            "satisfaction_with_environment            -0.027203  0.001556   \n",
            "last_performance_rating                   0.014877  0.003629   \n",
            "last_raise_pct                           -0.004905  0.027851   \n",
            "\n",
            "                               commuting_distance  seniority_level  \\\n",
            "years_at_company                         0.023017         0.572724   \n",
            "years_in_current_job                     0.031890         0.478151   \n",
            "years_since_last_promotion               0.047552         0.392935   \n",
            "total_years_working                      0.025593         0.779351   \n",
            "age                                      0.012074         0.522604   \n",
            "commuting_distance                       1.000000         0.038915   \n",
            "seniority_level                          0.038915         1.000000   \n",
            "satisfaction_with_job                    0.023859         0.040606   \n",
            "years_with_current_supervisor            0.031520         0.430047   \n",
            "satisfaction_with_environment           -0.019556         0.009462   \n",
            "last_performance_rating                  0.089282        -0.029956   \n",
            "last_raise_pct                           0.104421        -0.022683   \n",
            "\n",
            "                               satisfaction_with_job  \\\n",
            "years_at_company                            0.071920   \n",
            "years_in_current_job                        0.037591   \n",
            "years_since_last_promotion                  0.038015   \n",
            "total_years_working                         0.029119   \n",
            "age                                         0.095242   \n",
            "commuting_distance                          0.023859   \n",
            "seniority_level                             0.040606   \n",
            "satisfaction_with_job                       1.000000   \n",
            "years_with_current_supervisor               0.001472   \n",
            "satisfaction_with_environment              -0.006160   \n",
            "last_performance_rating                    -0.089030   \n",
            "last_raise_pct                             -0.037273   \n",
            "\n",
            "                               years_with_current_supervisor  \\\n",
            "years_at_company                                    0.781147   \n",
            "years_in_current_job                                0.781647   \n",
            "years_since_last_promotion                          0.599529   \n",
            "total_years_working                                 0.506007   \n",
            "age                                                 0.273679   \n",
            "commuting_distance                                  0.031520   \n",
            "seniority_level                                     0.430047   \n",
            "satisfaction_with_job                               0.001472   \n",
            "years_with_current_supervisor                       1.000000   \n",
            "satisfaction_with_environment                       0.021875   \n",
            "last_performance_rating                             0.100502   \n",
            "last_raise_pct                                      0.060882   \n",
            "\n",
            "                               satisfaction_with_environment  \\\n",
            "years_at_company                                    0.001339   \n",
            "years_in_current_job                                0.023698   \n",
            "years_since_last_promotion                          0.042132   \n",
            "total_years_working                                -0.027203   \n",
            "age                                                 0.001556   \n",
            "commuting_distance                                 -0.019556   \n",
            "seniority_level                                     0.009462   \n",
            "satisfaction_with_job                              -0.006160   \n",
            "years_with_current_supervisor                       0.021875   \n",
            "satisfaction_with_environment                       1.000000   \n",
            "last_performance_rating                             0.006943   \n",
            "last_raise_pct                                      0.014812   \n",
            "\n",
            "                               last_performance_rating  last_raise_pct  \n",
            "years_at_company                              0.022364        0.004435  \n",
            "years_in_current_job                          0.087038        0.039691  \n",
            "years_since_last_promotion                    0.030595        0.000615  \n",
            "total_years_working                           0.014877       -0.004905  \n",
            "age                                           0.003629        0.027851  \n",
            "commuting_distance                            0.089282        0.104421  \n",
            "seniority_level                              -0.029956       -0.022683  \n",
            "satisfaction_with_job                        -0.089030       -0.037273  \n",
            "years_with_current_supervisor                 0.100502        0.060882  \n",
            "satisfaction_with_environment                 0.006943        0.014812  \n",
            "last_performance_rating                       1.000000        0.792791  \n",
            "last_raise_pct                                0.792791        1.000000  \n",
            "Calculating the correlation matrix for the numerical variables in the DataFrame.\n",
            "The correlation matrix shows the pairwise correlation coefficients between the numerical variables.\n"
          ]
        }
      ],
      "source": [
        "# Compute the correlation matrix for numerical variables\n",
        "correlation_matrix = df[num_variables].corr()\n",
        "\n",
        "# Print the correlation matrix\n",
        "print(\"Correlation Matrix:\")\n",
        "print(correlation_matrix)\n",
        "\n",
        "# Comment explaining the code\n",
        "print(\"Calculating the correlation matrix for the numerical variables in the DataFrame.\")\n",
        "\n",
        "# Additional comment\n",
        "print(\"The correlation matrix shows the pairwise correlation coefficients between the numerical variables.\")\n"
      ]
    },
    {
      "cell_type": "code",
      "execution_count": null,
      "metadata": {
        "colab": {
          "base_uri": "https://localhost:8080/",
          "height": 668
        },
        "id": "R3GzLqgD5s7Q",
        "outputId": "745745b3-e57c-40ab-a39d-19c1b367409b"
      },
      "outputs": [
        {
          "output_type": "display_data",
          "data": {
            "text/plain": [
              "<Figure size 640x480 with 2 Axes>"
            ],
            "image/png": "[encoded data removed]"
          },
          "metadata": {}
        },
        {
          "output_type": "stream",
          "name": "stdout",
          "text": [
            "Creating a heatmap to visualize the correlation matrix.\n",
            "The heatmap provides a graphical representation of the correlation between numerical variables.\n"
          ]
        }
      ],
      "source": [
        "import seaborn as sns\n",
        "import matplotlib.pyplot as plt\n",
        "\n",
        "# Create a heatmap of the correlation matrix\n",
        "sns.heatmap(correlation_matrix)\n",
        "\n",
        "# Display the heatmap\n",
        "plt.show()\n",
        "\n",
        "# Comment explaining the code\n",
        "print(\"Creating a heatmap to visualize the correlation matrix.\")\n",
        "\n",
        "# Additional comment\n",
        "print(\"The heatmap provides a graphical representation of the correlation between numerical variables.\")\n"
      ]
    },
    {
      "cell_type": "code",
      "execution_count": null,
      "metadata": {
        "colab": {
          "base_uri": "https://localhost:8080/"
        },
        "id": "6sScRlXz5s7R",
        "outputId": "60bdcec1-d72d-4325-8e45-1e9ca5793d7a"
      },
      "outputs": [
        {
          "output_type": "stream",
          "name": "stdout",
          "text": [
            "Removing 'total_years_working' and 'years_at_company' from the numerical_vars list.\n",
            "These variables are no longer considered as numerical variables.\n"
          ]
        }
      ],
      "source": [
        "# Remove 'total_years_working' and 'years_at_company' from numerical_vars\n",
        "num_variables.remove('total_years_working')\n",
        "num_variables.remove('years_at_company')\n",
        "\n",
        "# Comment explaining the code\n",
        "print(\"Removing 'total_years_working' and 'years_at_company' from the numerical_vars list.\")\n",
        "\n",
        "# Additional comment\n",
        "print(\"These variables are no longer considered as numerical variables.\")\n"
      ]
    },
    {
      "cell_type": "markdown",
      "metadata": {
        "id": "TBlZiFhW5s7R"
      },
      "source": [
        "Due to the presence of multicollinearity, it has been determined that the variables \"total_years_working\" and \"years_at_company\" will be excluded from the list of numerical variables."
      ]
    },
    {
      "cell_type": "code",
      "execution_count": null,
      "metadata": {
        "id": "OcWUrKne5s7R"
      },
      "outputs": [],
      "source": []
    },
    {
      "cell_type": "markdown",
      "metadata": {
        "id": "0Da7NuiS5s7R"
      },
      "source": [
        "# Question 4\n",
        "- Split the data into training and test sets.  \n",
        "- Use 20% of the data for test and a random state of 124.  "
      ]
    },
    {
      "cell_type": "code",
      "execution_count": null,
      "metadata": {
        "colab": {
          "base_uri": "https://localhost:8080/"
        },
        "id": "m6Xbbuq25s7R",
        "outputId": "7b1ad568-d9f8-45cf-ce43-868a0609e837"
      },
      "outputs": [
        {
          "output_type": "stream",
          "name": "stdout",
          "text": [
            "Train set:\n",
            "    left_company  age frequency_of_travel              department  \\\n",
            "294           No   35       Travel_Rarely  Research & Development   \n",
            "766          Yes   33       Travel_Rarely  Research & Development   \n",
            "28            No   47          Non-Travel  Research & Development   \n",
            "85            No   30       Travel_Rarely                   Sales   \n",
            "176           No   27       Travel_Rarely  Research & Development   \n",
            "..           ...  ...                 ...                     ...   \n",
            "962          Yes   24       Travel_Rarely                   Sales   \n",
            "135           No   38       Travel_Rarely  Research & Development   \n",
            "17            No   40       Travel_Rarely  Research & Development   \n",
            "668          Yes   34          Non-Travel  Research & Development   \n",
            "462           No   32       Travel_Rarely  Research & Development   \n",
            "\n",
            "     commuting_distance  education  satisfaction_with_environment  gender  \\\n",
            "294                   7          3                              3    Male   \n",
            "766                  14          3                              3    Male   \n",
            "28                   14          4                              3    Male   \n",
            "85                   15          2                              3    Male   \n",
            "176                  16          4                              3  Female   \n",
            "..                  ...        ...                            ...     ...   \n",
            "962                   3          2                              1  Female   \n",
            "135                   2          5                              4    Male   \n",
            "17                   10          4                              4  Female   \n",
            "668                  16          4                              4    Male   \n",
            "462                   3          2                              3  Female   \n",
            "\n",
            "     seniority_level                position  satisfaction_with_job  \\\n",
            "294                3  Manufacturing Director                      3   \n",
            "766                1   Laboratory Technician                      4   \n",
            "28                 2      Research Scientist                      2   \n",
            "85                 3         Sales Executive                      1   \n",
            "176                1   Laboratory Technician                      2   \n",
            "..               ...                     ...                    ...   \n",
            "962                2         Sales Executive                      3   \n",
            "135                1      Research Scientist                      3   \n",
            "17                 1   Laboratory Technician                      3   \n",
            "668                1      Research Scientist                      1   \n",
            "462                3       Research Director                      4   \n",
            "\n",
            "    married_or_single  last_raise_pct  last_performance_rating  \\\n",
            "294            Single              21                        4   \n",
            "766           Married              13                        3   \n",
            "28            Married              18                        3   \n",
            "85           Divorced              11                        3   \n",
            "176           Married              14                        3   \n",
            "..                ...             ...                      ...   \n",
            "962            Single              14                        3   \n",
            "135           Married              13                        3   \n",
            "17            Married              13                        3   \n",
            "668           Married              23                        4   \n",
            "462            Single              15                        3   \n",
            "\n",
            "     total_years_working  years_at_company  years_in_current_job  \\\n",
            "294                   17                 8                     5   \n",
            "766                    8                 5                     4   \n",
            "28                    16                 8                     7   \n",
            "85                    12                 7                     7   \n",
            "176                    4                 2                     2   \n",
            "..                   ...               ...                   ...   \n",
            "962                    4                 2                     2   \n",
            "135                    6                 1                     0   \n",
            "17                    10                 7                     7   \n",
            "668                    5                 5                     2   \n",
            "462                   10                 7                     7   \n",
            "\n",
            "     years_since_last_promotion  years_with_current_supervisor  \n",
            "294                           1                              6  \n",
            "766                           0                              4  \n",
            "28                            1                              7  \n",
            "85                            1                              7  \n",
            "176                           2                              2  \n",
            "..                          ...                            ...  \n",
            "962                           2                              0  \n",
            "135                           0                              1  \n",
            "17                            1                              7  \n",
            "668                           3                              0  \n",
            "462                           7                              7  \n",
            "\n",
            "[800 rows x 19 columns]\n",
            "Test set:\n",
            "    left_company  age frequency_of_travel              department  \\\n",
            "80            No   27       Travel_Rarely  Research & Development   \n",
            "789          Yes   33       Travel_Rarely                   Sales   \n",
            "869          Yes   26       Travel_Rarely                   Sales   \n",
            "518          Yes   27   Travel_Frequently         Human Resources   \n",
            "794          Yes   23       Travel_Rarely  Research & Development   \n",
            "..           ...  ...                 ...                     ...   \n",
            "709          Yes   41       Travel_Rarely                   Sales   \n",
            "830          Yes   41       Travel_Rarely  Research & Development   \n",
            "565          Yes   46       Travel_Rarely                   Sales   \n",
            "248           No   37       Travel_Rarely  Research & Development   \n",
            "928          Yes   25       Travel_Rarely  Research & Development   \n",
            "\n",
            "     commuting_distance  education  satisfaction_with_environment  gender  \\\n",
            "80                    5          3                              3  Female   \n",
            "789                   9          4                              1  Female   \n",
            "869                   8          3                              4    Male   \n",
            "518                  22          3                              1  Female   \n",
            "794                   8          1                              4    Male   \n",
            "..                  ...        ...                            ...     ...   \n",
            "709                  20          2                              2  Female   \n",
            "830                   2          4                              2  Female   \n",
            "565                   9          3                              1    Male   \n",
            "248                  11          3                              1  Female   \n",
            "928                   3          3                              1    Male   \n",
            "\n",
            "     seniority_level               position  satisfaction_with_job  \\\n",
            "80                 1     Research Scientist                      2   \n",
            "789                2        Sales Executive                      1   \n",
            "869                2        Sales Executive                      1   \n",
            "518                1        Human Resources                      2   \n",
            "794                1  Laboratory Technician                      3   \n",
            "..               ...                    ...                    ...   \n",
            "709                1   Sales Representative                      2   \n",
            "830                1  Laboratory Technician                      4   \n",
            "565                3        Sales Executive                      4   \n",
            "248                1  Laboratory Technician                      3   \n",
            "928                1  Laboratory Technician                      1   \n",
            "\n",
            "    married_or_single  last_raise_pct  last_performance_rating  \\\n",
            "80             Single              12                        3   \n",
            "789            Single              17                        3   \n",
            "869            Single              17                        3   \n",
            "518           Married              12                        3   \n",
            "794            Single              11                        3   \n",
            "..                ...             ...                      ...   \n",
            "709            Single              22                        4   \n",
            "830          Divorced              13                        3   \n",
            "565          Divorced              11                        3   \n",
            "248            Single              18                        3   \n",
            "928           Married              13                        3   \n",
            "\n",
            "     total_years_working  years_at_company  years_in_current_job  \\\n",
            "80                     4                 4                     3   \n",
            "789                    6                 5                     2   \n",
            "869                    6                 4                     3   \n",
            "518                    1                 1                     0   \n",
            "794                    5                 5                     4   \n",
            "..                   ...               ...                   ...   \n",
            "709                    4                 4                     3   \n",
            "830                   10                 7                     7   \n",
            "565                   28                 7                     7   \n",
            "248                    8                 3                     2   \n",
            "928                    6                 2                     2   \n",
            "\n",
            "     years_since_last_promotion  years_with_current_supervisor  \n",
            "80                            1                              2  \n",
            "789                           0                              3  \n",
            "869                           1                              2  \n",
            "518                           0                              0  \n",
            "794                           1                              2  \n",
            "..                          ...                            ...  \n",
            "709                           0                              2  \n",
            "830                           1                              0  \n",
            "565                           4                              3  \n",
            "248                           0                              2  \n",
            "928                           0                              2  \n",
            "\n",
            "[200 rows x 19 columns]\n",
            "Splitting the DataFrame into train and test sets.\n",
            "The train set contains a portion of the data that will be used for training a model, while the test set contains a portion of the data that will be used for evaluating the model's performance.\n"
          ]
        }
      ],
      "source": [
        "from sklearn.model_selection import train_test_split\n",
        "\n",
        "# Split the DataFrame into train and test sets\n",
        "train, test = train_test_split(df, test_size=0.2, random_state=124)\n",
        "\n",
        "# Print the train set\n",
        "print(\"Train set:\")\n",
        "print(train)\n",
        "\n",
        "# Print the test set\n",
        "print(\"Test set:\")\n",
        "print(test)\n",
        "\n",
        "# Comment explaining the code\n",
        "print(\"Splitting the DataFrame into train and test sets.\")\n",
        "\n",
        "# Additional comment\n",
        "print(\"The train set contains a portion of the data that will be used for training a model, while the test set contains a portion of the data that will be used for evaluating the model's performance.\")\n"
      ]
    },
    {
      "cell_type": "markdown",
      "metadata": {
        "id": "y705p5-O5s7S"
      },
      "source": [
        "# Question 5\n",
        "- Create a pipeline to process the numerical data.  \n",
        "- Create a pipeline to process the categorical data.  \n",
        "\n",
        "Verify each pipeline contains the columns you would expect using a fit_transform on the training data, i.e., print the shapes of the fit_transforms for each pipeline."
      ]
    },
    {
      "cell_type": "code",
      "execution_count": null,
      "metadata": {
        "id": "4hLXSJvi5s7S"
      },
      "outputs": [],
      "source": [
        "from sklearn.compose import ColumnTransformer\n",
        "from sklearn.impute import SimpleImputer\n",
        "from sklearn.pipeline import Pipeline\n",
        "from sklearn.preprocessing import StandardScaler, OneHotEncoder\n",
        "\n",
        "# Define the numerical pipeline\n",
        "numerical_pipeline = Pipeline(steps=[\n",
        "    ('imputer', SimpleImputer(strategy='median')),\n",
        "    ('scaler', StandardScaler())\n",
        "])\n",
        "\n",
        "# Define the categorical pipeline\n",
        "categorical_pipeline = Pipeline(steps=[\n",
        "    ('imputer', SimpleImputer(strategy='most_frequent')),\n",
        "    ('onehot', OneHotEncoder(handle_unknown='ignore'))\n",
        "])\n",
        "\n",
        "# Define the preprocessor pipeline\n",
        "preprocessor = ColumnTransformer(transformers=[\n",
        "    ('num', numerical_pipeline, num_variables),\n",
        "    ('cat', categorical_pipeline, cate_variable)\n",
        "])\n",
        "\n",
        "# Transform the training data\n",
        "train_processed = preprocessor.fit_transform(train)\n"
      ]
    },
    {
      "cell_type": "code",
      "execution_count": null,
      "metadata": {
        "colab": {
          "base_uri": "https://localhost:8080/"
        },
        "id": "ZDTmlYdY5s7S",
        "outputId": "2126e7c0-c3e6-474b-eaa6-599349a5fa7e"
      },
      "outputs": [
        {
          "output_type": "stream",
          "name": "stdout",
          "text": [
            "Extracting the numerical features from the processed data.\n",
            "The shape of the numerical features is: (800, 7)\n"
          ]
        }
      ],
      "source": [
        "# Extracting the numerical features from the processed data\n",
        "numerical_features = train_processed[:, :7]\n",
        "numerical_features_shape = numerical_features.shape\n",
        "\n",
        "# Comment explaining the code\n",
        "print(\"Extracting the numerical features from the processed data.\")\n",
        "\n",
        "# Additional comment\n",
        "print(f\"The shape of the numerical features is: {numerical_features_shape}\")\n",
        "\n"
      ]
    },
    {
      "cell_type": "code",
      "execution_count": null,
      "metadata": {
        "colab": {
          "base_uri": "https://localhost:8080/"
        },
        "id": "aS2yESvj5s7S",
        "outputId": "1c2294cc-1656-41d9-b9d1-f9f6d0663a10"
      },
      "outputs": [
        {
          "output_type": "execute_result",
          "data": {
            "text/plain": [
              "(800, 39)"
            ]
          },
          "metadata": {},
          "execution_count": 20
        }
      ],
      "source": [
        "# Extracting the categorical features from the processed data\n",
        "categorical_features = train_processed[:, 7:]\n",
        "categorical_features_shape = categorical_features.shape\n",
        "categorical_features_shape"
      ]
    },
    {
      "cell_type": "markdown",
      "metadata": {
        "id": "etKCUNCk5s7S"
      },
      "source": [
        "# Question 6\n",
        "- Create a pipeline that combines the pre-processing and implements a logistic regression model.  \n",
        "- Print the accuracy on the training set and the test set.\n",
        "- Do you have any concerns of overfitting based on the differences between the two accuracy scores?"
      ]
    },
    {
      "cell_type": "code",
      "execution_count": null,
      "metadata": {
        "id": "qLEh2vWj5s7S"
      },
      "outputs": [],
      "source": [
        "from sklearn.linear_model import LogisticRegression\n",
        "from sklearn.metrics import accuracy_score\n",
        "\n",
        "# Logistic regression pipeline\n",
        "logreg_pipeline = Pipeline(steps=[\n",
        "    ('preprocessor', preprocessor),\n",
        "    ('classifier', LogisticRegression(random_state=124))\n",
        "])\n",
        "\n",
        "# Fit the model on the training data\n",
        "logreg_pipeline.fit(train, train['left_company'])\n",
        "\n",
        "# Predict the training and test sets\n",
        "train_predictions = logreg_pipeline.predict(train)\n",
        "test_predictions = logreg_pipeline.predict(test)\n",
        "\n",
        "# Calculate the accuracy on the training and test sets\n",
        "training_accuracy = accuracy_score(train['left_company'], train_predictions)\n",
        "testing_accuracy = accuracy_score(test['left_company'], test_predictions)\n"
      ]
    },
    {
      "cell_type": "code",
      "execution_count": null,
      "metadata": {
        "colab": {
          "base_uri": "https://localhost:8080/"
        },
        "id": "3YEqVhn05s7T",
        "outputId": "999013c5-ab01-4330-9d10-ad9f1214e125"
      },
      "outputs": [
        {
          "output_type": "stream",
          "name": "stdout",
          "text": [
            "1.0\n",
            "1.0\n"
          ]
        }
      ],
      "source": [
        "print(training_accuracy)\n",
        "print(testing_accuracy)"
      ]
    },
    {
      "cell_type": "markdown",
      "metadata": {
        "id": "cAoEKnqD5s7T"
      },
      "source": [
        "The train accuracy and test accuracy are same so I feel that the model is overfitting the data"
      ]
    }
  ],
  "metadata": {
    "kernelspec": {
      "display_name": "Python 3 (ipykernel)",
      "language": "python",
      "name": "python3"
    },
    "language_info": {
      "codemirror_mode": {
        "name": "ipython",
        "version": 3
      },
      "file_extension": ".py",
      "mimetype": "text/x-python",
      "name": "python",
      "nbconvert_exporter": "python",
      "pygments_lexer": "ipython3",
      "version": "3.9.12"
    },
    "toc": {
      "base_numbering": 1,
      "nav_menu": {},
      "number_sections": true,
      "sideBar": true,
      "skip_h1_title": false,
      "title_cell": "Table of Contents",
      "title_sidebar": "Contents",
      "toc_cell": false,
      "toc_position": {},
      "toc_section_display": true,
      "toc_window_display": false
    },
    "colab": {
      "provenance": []
    }
  },
  "nbformat": 4,
  "nbformat_minor": 0
}