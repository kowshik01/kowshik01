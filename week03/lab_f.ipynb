{
  "cells": [
    {
      "cell_type": "markdown",
      "id": "57771d6f",
      "metadata": {
        "id": "57771d6f"
      },
      "source": [
        "# Week 3 Lab"
      ]
    },
    {
      "cell_type": "markdown",
      "id": "ccb647fd",
      "metadata": {
        "id": "ccb647fd"
      },
      "source": [
        "## Questions:\n",
        "- Differences between supervised and unsupervised learning?  \n",
        "- Differences between classification and regression?  \n",
        "- Classification and regression are the only types of supervised learning? "
      ]
    },
    {
      "cell_type": "markdown",
      "id": "03e12e71",
      "metadata": {
        "id": "03e12e71"
      },
      "source": [
        "Differences between supervised and unsupervised learning?"
      ]
    },
    {
      "cell_type": "markdown",
      "id": "65b112d1",
      "metadata": {
        "id": "65b112d1"
      },
      "source": [
        "Supervised learning is like having a teacher who shows you examples and tells you the answers. You're given a bunch of labeled examples, like pictures of different animals with their names. Your job is to learn from these examples and figure out how to recognize new animals based on their features. The teacher guides you by giving you the correct answers, and you use that knowledge to make predictions on new, unseen examples.\n",
        "\n",
        "On the other hand, unsupervised learning is like exploring a mystery without any clues or instructions. You're given a bunch of unlabeled examples, like pictures of different objects, but you don't know what they are. Your task is to find patterns or similarities in the pictures and group them together based on their shared characteristics. You don't have a teacher telling you the answers, so you have to rely on your own observations and discoveries to make sense of the data.\n",
        "\n",
        "In supervised learning, you have a clear goal of learning to predict or classify based on labeled examples. In unsupervised learning, the goal is to find hidden patterns or structures in the data without any prior knowledge. Both approaches have their own unique challenges and applications, but they provide valuable insights and solutions in different scenarios."
      ]
    },
    {
      "cell_type": "markdown",
      "id": "4172e62b",
      "metadata": {
        "id": "4172e62b"
      },
      "source": [
        "Differences between classification and regression?\n",
        "\n",
        "Classification is like putting things into different groups based on their features or characteristics. It's similar to sorting different objects into separate categories. For example, imagine you have a collection of fruits, and you want to classify them as either apples or oranges based on their color and shape. The goal of classification is to create a model that can predict the category (apple or orange) of a new fruit based on its color and shape. On the other hand, regression is about predicting a continuous value or quantity. Instead of grouping things into categories, regression focuses on understanding the relationship between different variables and making predictions on numerical outcomes. For instance, if you want to predict the price of a house based on its size and number of rooms, regression helps you estimate the numerical value of the house price. In summary, classification is about categorizing things, while regression is about making predictions on continuous values."
      ]
    },
    {
      "cell_type": "markdown",
      "id": "34eb2875",
      "metadata": {
        "id": "34eb2875"
      },
      "source": [
        "Classification and regression are the only types of supervised learning?\n",
        "No classification and regression are not the only type of supervised learning\n",
        "\n",
        "There are other types of supervised learning other than classification and regression, those are time series prediction, semi supervised learning, multiclass classification"
      ]
    }
  ],
  "metadata": {
    "kernelspec": {
      "display_name": "Python 3 (ipykernel)",
      "language": "python",
      "name": "python3"
    },
    "language_info": {
      "codemirror_mode": {
        "name": "ipython",
        "version": 3
      },
      "file_extension": ".py",
      "mimetype": "text/x-python",
      "name": "python",
      "nbconvert_exporter": "python",
      "pygments_lexer": "ipython3",
      "version": "3.9.12"
    },
    "toc": {
      "base_numbering": 1,
      "nav_menu": {},
      "number_sections": true,
      "sideBar": true,
      "skip_h1_title": false,
      "title_cell": "Table of Contents",
      "title_sidebar": "Contents",
      "toc_cell": false,
      "toc_position": {},
      "toc_section_display": true,
      "toc_window_display": false
    },
    "colab": {
      "provenance": []
    }
  },
  "nbformat": 4,
  "nbformat_minor": 5
}